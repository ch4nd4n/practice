{
 "cells": [
  {
   "cell_type": "code",
   "execution_count": null,
   "id": "a68a31b2",
   "metadata": {},
   "outputs": [],
   "source": [
    "import numpy as np # Mathematical Calculations\n",
    "import pandas as pd # Data operations and summaries\n",
    "import seaborn as sns # Good data visualizations\n",
    "import matplotlib.pyplot as plt # basic Visualizations\n",
    "import statsmodels.api as sm # Statistical Models\n",
    "import warnings\n",
    "warnings.simplefilter(action='ignore')\n",
    "from scipy import stats"
   ]
  },
  {
   "cell_type": "code",
   "execution_count": null,
   "id": "3891ae2b",
   "metadata": {},
   "outputs": [],
   "source": [
    "heart = pd.read_csv(\"heart.csv\")"
   ]
  },
  {
   "cell_type": "markdown",
   "id": "692cdcdb",
   "metadata": {},
   "source": [
    "# Preliminary Checks"
   ]
  },
  {
   "cell_type": "code",
   "execution_count": null,
   "id": "e122051a",
   "metadata": {},
   "outputs": [],
   "source": [
    "len(heart) # Number of Rows in the data"
   ]
  },
  {
   "cell_type": "code",
   "execution_count": null,
   "id": "f1d46819",
   "metadata": {},
   "outputs": [],
   "source": [
    "heart.shape # Number of rows and columns"
   ]
  },
  {
   "cell_type": "code",
   "execution_count": null,
   "id": "30ad423b",
   "metadata": {},
   "outputs": [],
   "source": [
    "heart.head(10)# Extract the top n observations from the data"
   ]
  },
  {
   "cell_type": "code",
   "execution_count": null,
   "id": "f985139e",
   "metadata": {},
   "outputs": [],
   "source": [
    "heart.tail(10) # Extracts the last n observations"
   ]
  },
  {
   "cell_type": "code",
   "execution_count": null,
   "id": "365acc82",
   "metadata": {},
   "outputs": [],
   "source": [
    "heart.sample(10) # Randomly checking some observations in the middle"
   ]
  },
  {
   "cell_type": "code",
   "execution_count": null,
   "id": "0026cb53",
   "metadata": {},
   "outputs": [],
   "source": [
    "heart.sample(frac = 0.01)# Extract randomly some defined percentage of observations"
   ]
  },
  {
   "cell_type": "code",
   "execution_count": null,
   "id": "2584e3fc",
   "metadata": {},
   "outputs": [],
   "source": [
    "heart.iloc[[590,357,446]]# Try to get the entire details of a selected row"
   ]
  },
  {
   "cell_type": "code",
   "execution_count": null,
   "id": "7e99100d",
   "metadata": {},
   "outputs": [],
   "source": [
    "heart.columns # Display the names of the columns\n",
    "# Advisable to change the names of the columns especially when there is no clarity in the names or when there are spaces in the names"
   ]
  },
  {
   "cell_type": "code",
   "execution_count": null,
   "id": "7cb2f096",
   "metadata": {},
   "outputs": [],
   "source": [
    "heart.rename(columns={ 'HeartDisease':'Target', 'FastingBS':'Fasting_Blood_Sugar'},inplace=True)# Renames the columns"
   ]
  },
  {
   "cell_type": "code",
   "execution_count": null,
   "id": "31c99ea6",
   "metadata": {},
   "outputs": [],
   "source": [
    "heart.sort_values(by=\"MaxHR\", ascending=False).head()"
   ]
  },
  {
   "cell_type": "code",
   "execution_count": null,
   "id": "aed025a3",
   "metadata": {},
   "outputs": [],
   "source": [
    "heart.sort_values(by=[\"MaxHR\", \"Cholesterol\"], ascending=[False, True]).head()"
   ]
  },
  {
   "cell_type": "code",
   "execution_count": null,
   "id": "a6a39697",
   "metadata": {},
   "outputs": [],
   "source": [
    "heart[(heart[\"Target\"] == 0) | (heart[\"ChestPainType\"] == \"ASY\")][\"Cholesterol\"].max() #"
   ]
  },
  {
   "cell_type": "code",
   "execution_count": null,
   "id": "5e4b29ba",
   "metadata": {},
   "outputs": [],
   "source": [
    "heart.info()# Gives information on Missing values, Data Types\n",
    "# Check whether any of the columns differ in their data type from what is typically expected"
   ]
  },
  {
   "cell_type": "code",
   "execution_count": null,
   "id": "b2b078f0",
   "metadata": {},
   "outputs": [],
   "source": [
    "heart[\"Target\"] = heart[\"Target\"].astype(\"object\") # CHange the data type of the object\n",
    "heart[\"Fasting_Blood_Sugar\"] = heart[\"Fasting_Blood_Sugar\"].astype(\"object\")"
   ]
  },
  {
   "cell_type": "code",
   "execution_count": null,
   "id": "7be3873f",
   "metadata": {},
   "outputs": [],
   "source": [
    "heart.describe()# Descriptive Statistics of the columns (Numerical columns)"
   ]
  },
  {
   "cell_type": "code",
   "execution_count": null,
   "id": "d6c74d1d",
   "metadata": {},
   "outputs": [],
   "source": [
    "heart.describe(include=['O']) # Basic summary of categorical columns"
   ]
  },
  {
   "cell_type": "code",
   "execution_count": null,
   "id": "b42ce8ae",
   "metadata": {},
   "outputs": [],
   "source": [
    "heart.nunique() # Unique number of values in each column"
   ]
  },
  {
   "cell_type": "code",
   "execution_count": null,
   "id": "e48c6a86",
   "metadata": {},
   "outputs": [],
   "source": [
    "heart.apply(np.max)"
   ]
  },
  {
   "cell_type": "code",
   "execution_count": null,
   "id": "323f6dc6",
   "metadata": {},
   "outputs": [],
   "source": [
    "heart.skew()#symmetricity of the data"
   ]
  },
  {
   "cell_type": "code",
   "execution_count": null,
   "id": "019480df",
   "metadata": {},
   "outputs": [],
   "source": [
    "heart.kurtosis() # Peaked nature of the data ..The deviation of the data from normality"
   ]
  },
  {
   "cell_type": "code",
   "execution_count": null,
   "id": "d160b84f",
   "metadata": {},
   "outputs": [],
   "source": [
    "# To be covered\n",
    "heart[\"MaxHR\"].apply(lambda x:(x^3-x^2)/(x+1)).head()"
   ]
  },
  {
   "cell_type": "code",
   "execution_count": null,
   "id": "b8fc66dd",
   "metadata": {},
   "outputs": [],
   "source": [
    "cat_columns = heart.select_dtypes(include='object').columns\n",
    "num_columns = heart.select_dtypes(exclude='object').columns\n",
    "\n",
    "# Display the Frequency of each of the categories in the cateogircal columns\n",
    "for var in cat_columns: \n",
    "    \n",
    "    print(heart[var].value_counts())"
   ]
  },
  {
   "cell_type": "code",
   "execution_count": null,
   "id": "ecd854f7",
   "metadata": {},
   "outputs": [],
   "source": [
    "for var in cat_columns: \n",
    "    \n",
    "    print(heart[var].value_counts(normalize=True))\n",
    "    print(heart[[var, \"Target\"]].groupby(var, as_index=False).mean().sort_values(by='Target', ascending=False))"
   ]
  },
  {
   "cell_type": "code",
   "execution_count": null,
   "id": "3bf109de",
   "metadata": {},
   "outputs": [],
   "source": [
    "cat_columns"
   ]
  },
  {
   "cell_type": "code",
   "execution_count": null,
   "id": "242542cd",
   "metadata": {},
   "outputs": [],
   "source": [
    "for var in num_columns: \n",
    "    \n",
    "    print(\"The descriptive statistics for \",var, \" are \",stats.describe(heart[var]))\n",
    "    "
   ]
  },
  {
   "cell_type": "code",
   "execution_count": null,
   "id": "22fd21f0",
   "metadata": {},
   "outputs": [],
   "source": [
    "# Errors replacing them with blank values (Data Validation)\n",
    "\n",
    "heart['RestingBP'][heart['RestingBP']==0] = np.nan\n",
    "heart['Cholesterol'][heart['Cholesterol'] == 0] = np.nan\n",
    "heart['Oldpeak'][heart['Oldpeak'] < 0] = np.nan\n",
    "#heart['Oldpeak'] = np.abs(heart['Oldpeak'])\n",
    "heart['Age'][heart['Age'] > 100] = np.nan\n",
    "\n",
    "#Winsorization\n",
    "# Adjust to the minimum or the maximum value"
   ]
  },
  {
   "cell_type": "code",
   "execution_count": null,
   "id": "b8ef9629",
   "metadata": {},
   "outputs": [],
   "source": [
    "# Any category with less than 20 occurrences, I will replace them with blanks\n",
    "\n",
    "for var in cat_columns: \n",
    "    \n",
    "    insuf_Values = heart[var].value_counts()[heart[var].value_counts()<20].reset_index()\n",
    "    heart[var][heart[var].isin(insuf_Values[\"index\"])] = np.nan\n"
   ]
  },
  {
   "cell_type": "code",
   "execution_count": null,
   "id": "1e9954b7",
   "metadata": {},
   "outputs": [],
   "source": [
    "# Count the number of missing values ine ach column\n",
    "heart.isnull().sum().sort_values(ascending=False)"
   ]
  },
  {
   "cell_type": "code",
   "execution_count": null,
   "id": "89c37ca9",
   "metadata": {},
   "outputs": [],
   "source": [
    "# In case you want to delete a column\n",
    "#heart.drop([\"Cholesterol\"],axis=1, inplace = True)"
   ]
  },
  {
   "cell_type": "code",
   "execution_count": null,
   "id": "a2abcaa7",
   "metadata": {},
   "outputs": [],
   "source": [
    "# Replace blanks with minimum value\n",
    "heart['Oldpeak'].fillna(heart['Oldpeak'].min(),inplace = True)\n",
    "heart['Cholesterol'].fillna(heart['Cholesterol'].median(),inplace = True)"
   ]
  },
  {
   "cell_type": "code",
   "execution_count": null,
   "id": "7dde451c",
   "metadata": {},
   "outputs": [],
   "source": [
    "heart['ChestPainType'].value_counts().idxmax()"
   ]
  },
  {
   "cell_type": "code",
   "execution_count": null,
   "id": "5f8e188b",
   "metadata": {},
   "outputs": [],
   "source": [
    "# Replacing a blank in a categorical variable with the mode of that category\n",
    "heart[\"ChestPainType\"].fillna(heart['ChestPainType'].value_counts().idxmax(), inplace=True)"
   ]
  },
  {
   "cell_type": "code",
   "execution_count": null,
   "id": "7b8ec068",
   "metadata": {},
   "outputs": [],
   "source": [
    "# Remove the missing rows\n",
    "heart.dropna(axis=0, inplace = True)"
   ]
  },
  {
   "cell_type": "code",
   "execution_count": null,
   "id": "26278f04",
   "metadata": {},
   "outputs": [],
   "source": [
    "# Create new Features\n",
    "heart['Chol_BP'] = heart['Cholesterol'] / heart['RestingBP']\n",
    "\n",
    "round(heart['Chol_BP'].mean(),2)"
   ]
  },
  {
   "cell_type": "code",
   "execution_count": null,
   "id": "5b24263b",
   "metadata": {},
   "outputs": [],
   "source": [
    "# Usage of Lambda (Alternative defining function separately and use it separately)\n",
    "print('ST_Slope - Total Count')\n",
    "heart['ST_Slope'].apply(lambda num:num[:1]).value_counts()[:3]"
   ]
  },
  {
   "cell_type": "code",
   "execution_count": null,
   "id": "0bf06145",
   "metadata": {},
   "outputs": [],
   "source": [
    "# One categorical One numerical column - Descriptive Statistics across the categories\n",
    "for var in cat_columns: \n",
    "    print(heart.groupby(var).mean())"
   ]
  },
  {
   "cell_type": "code",
   "execution_count": null,
   "id": "7da5de50",
   "metadata": {},
   "outputs": [],
   "source": [
    "print(\"Variable ----Maximum Value ----- Maximum Value Location\")\n",
    "for var in num_columns: \n",
    "    print(var, \"-----\", heart[var].max(), \"-----\",heart[var].idxmax())    "
   ]
  },
  {
   "cell_type": "code",
   "execution_count": null,
   "id": "9ed5930a",
   "metadata": {},
   "outputs": [],
   "source": [
    "#Another Filter Example\n",
    "heart[heart['Cholesterol'].between(100,200,inclusive=True)]"
   ]
  },
  {
   "cell_type": "code",
   "execution_count": null,
   "id": "9f078902",
   "metadata": {},
   "outputs": [],
   "source": [
    "from itertools import product\n",
    "cat1 = heart[cat_columns]\n",
    "cat2 = heart[cat_columns]\n",
    "cat_var_prod = list(product(cat1,cat2, repeat = 1))\n",
    "cat_var_prod"
   ]
  },
  {
   "cell_type": "code",
   "execution_count": null,
   "id": "8b742a7d",
   "metadata": {},
   "outputs": [],
   "source": [
    "# Cross Tabulations of the categorical variables\n",
    "for var1 in cat_columns:\n",
    "    for var2 in cat_columns:\n",
    "        print(pd.crosstab(heart[var1], heart[var2], normalize=True))\n"
   ]
  },
  {
   "cell_type": "code",
   "execution_count": null,
   "id": "61c0ffa5",
   "metadata": {},
   "outputs": [],
   "source": [
    "import scipy.stats as ss\n",
    "result = []\n",
    "for i in cat_var_prod:\n",
    "    if i[0] != i[1]:\n",
    "        result.append((i[0],i[1],list(ss.chi2_contingency(pd.crosstab(\n",
    "                            heart[i[0]], heart[i[1]])))[1]))\n",
    "result\n",
    "chi_test_output = pd.DataFrame(result, columns = [\"var1\", \"var2\", \"coef\"])\n",
    "chi_test_output"
   ]
  },
  {
   "cell_type": "code",
   "execution_count": null,
   "id": "5685c000",
   "metadata": {},
   "outputs": [],
   "source": [
    "# Correlation between two numerical variables\n",
    "heart.corr()"
   ]
  },
  {
   "cell_type": "code",
   "execution_count": null,
   "id": "28e48a0a",
   "metadata": {},
   "outputs": [],
   "source": [
    "def Zscore_outlier(df):\n",
    "    out=[]\n",
    "    m = np.mean(df)\n",
    "    sd = np.std(df)\n",
    "    for i in df: \n",
    "        z = (i-m)/sd\n",
    "        if np.abs(z) > 3: \n",
    "            out.append(i)\n",
    "    print(\"Outliers:\",out)\n",
    "    \n",
    "for var in num_columns: \n",
    "    print(Zscore_outlier(heart[var]))"
   ]
  },
  {
   "cell_type": "code",
   "execution_count": null,
   "id": "235f8fb0",
   "metadata": {},
   "outputs": [],
   "source": [
    "def iqr_outliers(df):\n",
    "    out=[]\n",
    "    q1 = df.quantile(0.25)\n",
    "    q3 = df.quantile(0.75)\n",
    "    iqr = q3-q1\n",
    "    Lower_tail = q1 - 1.5 * iqr\n",
    "    Upper_tail = q3 + 1.5 * iqr\n",
    "    for i in df:\n",
    "        if i > Upper_tail or i < Lower_tail:\n",
    "            out.append(i)\n",
    "    print(\"Outliers:\",out)\n",
    "    \n",
    "for var in num_columns: \n",
    "    print(iqr_outliers(heart[var]))"
   ]
  },
  {
   "cell_type": "code",
   "execution_count": null,
   "id": "2fb342b2",
   "metadata": {},
   "outputs": [],
   "source": [
    "def Winsorization_outliers(df):\n",
    "    out=[]\n",
    "    q1 = df.quantile(0.01)\n",
    "    q3 = df.quantile(0.99)\n",
    "    for i in df:\n",
    "        if i > q3 or i < q1:\n",
    "            out.append(i)\n",
    "    print(\"Outliers:\",out)\n",
    "\n",
    "for var in num_columns: \n",
    "    print(Winsorization_outliers(heart[var]))   "
   ]
  },
  {
   "cell_type": "code",
   "execution_count": null,
   "id": "cec90de1",
   "metadata": {},
   "outputs": [],
   "source": [
    "def ZRscore_outlier(df):\n",
    "    out=[]\n",
    "    med = np.median(df)\n",
    "    ma = stats.median_absolute_deviation(df)\n",
    "    for i in df: \n",
    "        z = (0.6745*(i-med))/ (np.median(ma))\n",
    "        if np.abs(z) > 3: \n",
    "            out.append(i)\n",
    "    print(\"Outliers:\",out)\n",
    "    \n",
    "for var in num_columns: \n",
    "    print(ZRscore_outlier(heart[var]))"
   ]
  },
  {
   "cell_type": "code",
   "execution_count": null,
   "id": "e84d1279",
   "metadata": {},
   "outputs": [],
   "source": [
    "def grubbs_test(x):\n",
    "    n = len(x)\n",
    "    mean_x = np.mean(x)\n",
    "    sd_x = np.std(x)\n",
    "    numerator = max(abs(x-mean_x))\n",
    "    g_calculated = numerator/sd_x\n",
    "    print(\"Grubbs Calculated Value:\",g_calculated)\n",
    "    t_value = stats.t.ppf(1 - 0.05 / (2 * n), n - 2)\n",
    "    g_critical = ((n - 1) * np.sqrt(np.square(t_value))) / (np.sqrt(n) * np.sqrt(n - 2 + np.square(t_value)))\n",
    "    print(\"Grubbs Critical Value:\",g_critical)\n",
    "    if g_critical > g_calculated:\n",
    "        print(\"No outliers\\n\")\n",
    "    else:\n",
    "        print(\"Outliers Exist\\n\")\n",
    "        \n",
    "for var in num_columns: \n",
    "    print(grubbs_test(heart[var]))"
   ]
  },
  {
   "cell_type": "code",
   "execution_count": null,
   "id": "8d10c018",
   "metadata": {},
   "outputs": [],
   "source": [
    "from sklearn.cluster import DBSCAN\n",
    "def DB_outliers(df):\n",
    "    outlier_detection = DBSCAN(eps = 2, metric='euclidean', min_samples = 5)\n",
    "    clusters = outlier_detection.fit_predict(df.values.reshape(-1,1))\n",
    "    data = pd.DataFrame()\n",
    "    data['cluster'] = clusters\n",
    "    print(data['cluster'].value_counts().sort_values(ascending=False))\n",
    "\n",
    "for var in num_columns: \n",
    "    print(DB_outliers(heart[var]))"
   ]
  },
  {
   "cell_type": "code",
   "execution_count": null,
   "id": "203a3f82",
   "metadata": {},
   "outputs": [],
   "source": [
    "from sklearn.ensemble import IsolationForest\n",
    "def Iso_outliers(df):\n",
    "    iso = IsolationForest(random_state = 1, contamination= 'auto')\n",
    "    preds = iso.fit_predict(df.values.reshape(-1,1))\n",
    "    data = pd.DataFrame()\n",
    "    data['cluster'] = preds\n",
    "    print(data['cluster'].value_counts().sort_values(ascending=False))\n",
    "    \n",
    "for var in num_columns: \n",
    "    Iso_outliers(heart[var])"
   ]
  },
  {
   "cell_type": "markdown",
   "id": "b1b21a52",
   "metadata": {},
   "source": [
    "## Visualizations"
   ]
  },
  {
   "cell_type": "code",
   "execution_count": null,
   "id": "a621386f",
   "metadata": {},
   "outputs": [],
   "source": [
    "for var in num_columns: \n",
    "    plt.figure()\n",
    "    sns.histplot(data = heart, x = var, kde = True, color='teal', alpha=0.6)"
   ]
  },
  {
   "cell_type": "code",
   "execution_count": null,
   "id": "d7404b8e",
   "metadata": {},
   "outputs": [],
   "source": [
    "plt.figure(figsize=(15,8))\n",
    "for var in cat_columns: \n",
    "    plt.figure()\n",
    "    sns.countplot(data = heart, x = var,   hue = 'Target')"
   ]
  },
  {
   "cell_type": "code",
   "execution_count": null,
   "id": "fbb92174",
   "metadata": {},
   "outputs": [],
   "source": [
    "sns.pairplot(heart, hue='Target')"
   ]
  },
  {
   "cell_type": "code",
   "execution_count": null,
   "id": "258c1a15",
   "metadata": {},
   "outputs": [],
   "source": [
    "for var in num_columns: \n",
    "    for i in cat_columns:\n",
    "        plt.figure()\n",
    "        sns.catplot(x=i,y=var,data=heart,kind='box',col='Target',palette='Dark2')   "
   ]
  },
  {
   "cell_type": "code",
   "execution_count": null,
   "id": "568ccdc7",
   "metadata": {},
   "outputs": [],
   "source": [
    "sns.heatmap(heart.corr(), annot=True)"
   ]
  },
  {
   "cell_type": "code",
   "execution_count": null,
   "id": "a3866ff1",
   "metadata": {},
   "outputs": [],
   "source": [
    "import statsmodels.api as sm\n",
    "def qq_plots(df):\n",
    "    plt.figure(figsize=(10, 4))\n",
    "    sm.qqplot(df,line='s')\n",
    "    plt.title(\"Normal QQPlot\")\n",
    "    plt.show()\n",
    "for var in num_columns: \n",
    "    qq_plots(heart[var])\n",
    "    "
   ]
  },
  {
   "cell_type": "markdown",
   "id": "e40bb918",
   "metadata": {},
   "source": [
    "## Scikit-Learn"
   ]
  },
  {
   "cell_type": "code",
   "execution_count": null,
   "id": "aca6f986",
   "metadata": {},
   "outputs": [],
   "source": [
    "from sklearn import preprocessing\n",
    "from sklearn.model_selection import train_test_split\n",
    "from sklearn.linear_model import LogisticRegression\n",
    "from sklearn.feature_selection import RFE\n",
    "from sklearn.compose import make_column_transformer\n",
    "from sklearn.preprocessing import StandardScaler, MinMaxScaler, OrdinalEncoder, MaxAbsScaler\n",
    "from sklearn.preprocessing import PowerTransformer, QuantileTransformer, OneHotEncoder"
   ]
  },
  {
   "cell_type": "code",
   "execution_count": null,
   "id": "862e0101",
   "metadata": {},
   "outputs": [],
   "source": [
    "X = heart.drop([\"Target\"],axis = 1)\n",
    "y = heart['Target']\n"
   ]
  },
  {
   "cell_type": "code",
   "execution_count": null,
   "id": "71838410",
   "metadata": {},
   "outputs": [],
   "source": [
    "categorical_columns = X.select_dtypes(include='object').columns\n",
    "numerical_columns = X.select_dtypes(exclude='object').columns"
   ]
  },
  {
   "cell_type": "code",
   "execution_count": null,
   "id": "dab47fa7",
   "metadata": {},
   "outputs": [],
   "source": [
    "X = pd.get_dummies(data = X, prefix = categorical_columns, prefix_sep='_',\n",
    "               columns = categorical_columns,\n",
    "               drop_first =True,\n",
    "              dtype='int8')\n",
    "X"
   ]
  },
  {
   "cell_type": "code",
   "execution_count": null,
   "id": "e6ef5ba7",
   "metadata": {},
   "outputs": [],
   "source": [
    "X_train, X_test, y_train, y_test = train_test_split(X, y, test_size=0.25, random_state=101)"
   ]
  },
  {
   "cell_type": "code",
   "execution_count": null,
   "id": "7344b1d2",
   "metadata": {},
   "outputs": [],
   "source": [
    "col_names = X_train.columns"
   ]
  },
  {
   "cell_type": "code",
   "execution_count": null,
   "id": "2db71178",
   "metadata": {
    "scrolled": true
   },
   "outputs": [],
   "source": [
    "# You can perform Box Cox or Yeo-Johnson (Non Normal transformation)\n",
    "bctrans = PowerTransformer(method = 'yeo-johnson').fit(X_train)\n",
    "X_train = pd.DataFrame(bctrans.transform(X_train),columns = col_names)\n",
    "X_test = pd.DataFrame(bctrans.transform(X_test),columns = col_names)\n",
    "scaler = preprocessing.StandardScaler().fit(X_train)\n",
    "X_train = pd.DataFrame(scaler.transform(X_train),columns = col_names)\n",
    "X_test = pd.DataFrame(scaler.transform(X_test),columns = col_names)\n",
    "X_train.head()"
   ]
  },
  {
   "cell_type": "code",
   "execution_count": null,
   "id": "3556664d",
   "metadata": {},
   "outputs": [],
   "source": [
    "log_model = LogisticRegression(penalty = 'none')\n",
    "log_model.fit(X_train,y_train)\n",
    "log_model.coef_"
   ]
  },
  {
   "cell_type": "code",
   "execution_count": null,
   "id": "f34aa931",
   "metadata": {},
   "outputs": [],
   "source": [
    "from sklearn.metrics import accuracy_score,confusion_matrix,classification_report,plot_confusion_matrix, cohen_kappa_score"
   ]
  },
  {
   "cell_type": "code",
   "execution_count": null,
   "id": "c6451186",
   "metadata": {},
   "outputs": [],
   "source": [
    "y_pred = log_model.predict(X_test)"
   ]
  },
  {
   "cell_type": "code",
   "execution_count": null,
   "id": "bbbd1f55",
   "metadata": {},
   "outputs": [],
   "source": [
    "y_pred_proba = log_model.predict_proba(X_test)"
   ]
  },
  {
   "cell_type": "code",
   "execution_count": null,
   "id": "e4ffdccb",
   "metadata": {},
   "outputs": [],
   "source": [
    "accuracy_score(y_test,y_pred)"
   ]
  },
  {
   "cell_type": "code",
   "execution_count": null,
   "id": "44c159c1",
   "metadata": {},
   "outputs": [],
   "source": [
    "y_test.value_counts()"
   ]
  },
  {
   "cell_type": "code",
   "execution_count": null,
   "id": "aed5d812",
   "metadata": {},
   "outputs": [],
   "source": [
    "confusion_matrix(y_test,y_pred)"
   ]
  },
  {
   "cell_type": "code",
   "execution_count": null,
   "id": "2fd78198",
   "metadata": {},
   "outputs": [],
   "source": [
    "cohen_kappa_score(y_test,y_pred)"
   ]
  },
  {
   "cell_type": "code",
   "execution_count": null,
   "id": "fc2d35a5",
   "metadata": {},
   "outputs": [],
   "source": [
    "plot_confusion_matrix(log_model,X_test,y_test)"
   ]
  },
  {
   "cell_type": "code",
   "execution_count": null,
   "id": "8160ad33",
   "metadata": {},
   "outputs": [],
   "source": [
    "print(classification_report(y_test,y_pred))"
   ]
  },
  {
   "cell_type": "code",
   "execution_count": null,
   "id": "acbab5af",
   "metadata": {},
   "outputs": [],
   "source": [
    "log_model.predict_proba(X_train.iloc[0].values.reshape(1, -1))"
   ]
  },
  {
   "cell_type": "code",
   "execution_count": null,
   "id": "b263cfe6",
   "metadata": {},
   "outputs": [],
   "source": [
    "log_model.predict(X_train.iloc[0].values.reshape(1, -1))"
   ]
  },
  {
   "cell_type": "code",
   "execution_count": null,
   "id": "00e81c69",
   "metadata": {},
   "outputs": [],
   "source": [
    "from sklearn.metrics import precision_recall_curve,plot_precision_recall_curve,plot_roc_curve, roc_auc_score, roc_curve"
   ]
  },
  {
   "cell_type": "code",
   "execution_count": null,
   "id": "5e8edd01",
   "metadata": {},
   "outputs": [],
   "source": [
    "[fpr, tpr, thr] = roc_curve(y_test, y_pred_proba[:,1], pos_label = 1)\n",
    "fpr, tpr, thr"
   ]
  },
  {
   "cell_type": "code",
   "execution_count": null,
   "id": "5ebe96df",
   "metadata": {},
   "outputs": [],
   "source": [
    "roc_auc_score(y_test, y_pred_proba[:,1])"
   ]
  },
  {
   "cell_type": "code",
   "execution_count": null,
   "id": "05b049c2",
   "metadata": {},
   "outputs": [],
   "source": [
    "plot_precision_recall_curve(log_model,X_test,y_test)"
   ]
  },
  {
   "cell_type": "code",
   "execution_count": null,
   "id": "656b04b1",
   "metadata": {},
   "outputs": [],
   "source": [
    "plot_roc_curve(log_model,X_test,y_test)"
   ]
  },
  {
   "cell_type": "code",
   "execution_count": null,
   "id": "d969ee4e",
   "metadata": {},
   "outputs": [],
   "source": [
    "from sklearn.model_selection import cross_val_score\n",
    "scores_accuracy = cross_val_score(log_model, X, y, cv=10, scoring='accuracy')\n",
    "scores_log_loss = cross_val_score(log_model, X, y, cv=10, scoring='neg_log_loss')\n",
    "scores_auc = cross_val_score(log_model, X, y, cv=10, scoring='roc_auc')"
   ]
  },
  {
   "cell_type": "code",
   "execution_count": null,
   "id": "4ddc349a",
   "metadata": {},
   "outputs": [],
   "source": [
    "scores_accuracy,scores_log_loss,scores_auc"
   ]
  },
  {
   "cell_type": "code",
   "execution_count": null,
   "id": "2346ac89",
   "metadata": {},
   "outputs": [],
   "source": [
    "scores_accuracy.mean(),scores_log_loss.mean(), scores_auc.mean()"
   ]
  },
  {
   "cell_type": "code",
   "execution_count": null,
   "id": "4739d7a1",
   "metadata": {},
   "outputs": [],
   "source": [
    "logreg100 = LogisticRegression(C=100,  random_state=101)\n",
    "logreg100.fit(X_train, y_train)\n",
    "print(logreg100.score(X_train, y_train))\n",
    "print(logreg100.score(X_test, y_test))"
   ]
  },
  {
   "cell_type": "code",
   "execution_count": null,
   "id": "617a6449",
   "metadata": {},
   "outputs": [],
   "source": [
    "logreg001 = LogisticRegression(C=0.01,  random_state=101)\n",
    "logreg001.fit(X_train, y_train)\n",
    "print(logreg001.score(X_train, y_train))\n",
    "print(logreg001.score(X_test, y_test))"
   ]
  },
  {
   "cell_type": "code",
   "execution_count": null,
   "id": "8108cffb",
   "metadata": {},
   "outputs": [],
   "source": [
    "# Hyper parameter tuning\n",
    "from sklearn.model_selection import GridSearchCV\n",
    "logreg = LogisticRegression()\n",
    "parameters = [{'penalty':['l1','l2']}, \n",
    "              {'C':[1, 10, 100, 1000]}]\n",
    "grid_search = GridSearchCV(estimator = logreg,  \n",
    "                           param_grid = parameters,\n",
    "                           scoring = 'accuracy',\n",
    "                           cv = 5,\n",
    "                           verbose=0)\n",
    "grid_search.fit(X_train, y_train)\n"
   ]
  },
  {
   "cell_type": "code",
   "execution_count": null,
   "id": "56603082",
   "metadata": {},
   "outputs": [],
   "source": [
    "print(grid_search.best_score_)\n",
    "print(grid_search.best_params_)\n",
    "print(grid_search.best_estimator_)\n",
    "print(grid_search.cv_results_)"
   ]
  },
  {
   "cell_type": "code",
   "execution_count": null,
   "id": "336aa2b1",
   "metadata": {},
   "outputs": [],
   "source": [
    "from sklearn.feature_selection import RFECV, RFE"
   ]
  },
  {
   "cell_type": "code",
   "execution_count": null,
   "id": "db941bb2",
   "metadata": {},
   "outputs": [],
   "source": [
    "X_train.shape"
   ]
  },
  {
   "cell_type": "code",
   "execution_count": null,
   "id": "e5eb2f6e",
   "metadata": {},
   "outputs": [],
   "source": [
    "from sklearn.feature_selection import SelectKBest\n",
    "from sklearn.feature_selection import SelectPercentile\n",
    "from sklearn.feature_selection import chi2\n",
    "X_new = SelectKBest(chi2, k=6).fit_transform(X_train, y_train)\n",
    "print(X_new.head())\n",
    "X_new1 = SelectPercentile(percentile = 25).fit_transform(X_train, y_train)\n",
    "print(X_new1.head())"
   ]
  },
  {
   "cell_type": "code",
   "execution_count": null,
   "id": "9108d3e0",
   "metadata": {},
   "outputs": [],
   "source": [
    "# cross-validated score for RFE object\n",
    "# The \"accuracy\" scoring is proportional to the number of correct classifications\n",
    "rfecv = RFECV(estimator=LogisticRegression(), step=1, cv=10, scoring='accuracy',min_features_to_select = 5)\n",
    "rfecv.fit(X_train,y_train)\n",
    "\n",
    "print(\"Optimal number of features: %d\" % rfecv.n_features_)\n",
    "print('Selected features: %s' % list(X.columns[rfecv.support_]))\n",
    "rfecv.grid_scores_"
   ]
  },
  {
   "cell_type": "code",
   "execution_count": null,
   "id": "5da0c052",
   "metadata": {},
   "outputs": [],
   "source": [
    "plt.figure(figsize=(10,6))\n",
    "plt.xlabel(\"Number of features selected\")\n",
    "plt.ylabel(\"Cross validation score (nb of correct classifications)\")\n",
    "plt.plot(range(1, len(rfecv.grid_scores_) + 1), rfecv.grid_scores_)\n",
    "plt.show()"
   ]
  },
  {
   "cell_type": "code",
   "execution_count": null,
   "id": "399cfd32",
   "metadata": {},
   "outputs": [],
   "source": [
    "#Selected_features = ['Fasting_Blood_Sugar', 'Chol_BP', 'Sex_M', 'ChestPainType_ATA', 'ChestPainType_NAP', 'ExerciseAngina_Y', 'ST_Slope_Flat', 'ST_Slope_Up']\n",
    "#X_train = X_train[Selected_features]\n",
    "#X_test = X_test[Selected_features]\n",
    "plt.subplots(figsize=(16, 10))\n",
    "sns.heatmap(X_train.corr(), annot=True, cmap=\"RdYlGn\")\n",
    "plt.show()"
   ]
  },
  {
   "cell_type": "markdown",
   "id": "cc059bce",
   "metadata": {},
   "source": [
    "# Using statsmodels"
   ]
  },
  {
   "cell_type": "code",
   "execution_count": null,
   "id": "ede7cad2",
   "metadata": {},
   "outputs": [],
   "source": [
    "y_test = pd.DataFrame(y_test)\n",
    "print(type(y_test))\n",
    "y_train = pd.DataFrame(y_train)\n",
    "print(type(y_train))\n",
    "print(type(X_train))"
   ]
  },
  {
   "cell_type": "code",
   "execution_count": null,
   "id": "2c5592a8",
   "metadata": {},
   "outputs": [],
   "source": [
    "X_train.head()"
   ]
  },
  {
   "cell_type": "code",
   "execution_count": null,
   "id": "2c92b00b",
   "metadata": {},
   "outputs": [],
   "source": [
    "import statsmodels.api as sm\n",
    "y_train=y_train.values.reshape(-1,1)\n",
    "log_reg = sm.Logit(y_train, X_train)\n",
    "LogReg_Model = log_reg.fit()\n"
   ]
  },
  {
   "cell_type": "code",
   "execution_count": null,
   "id": "c8957d9a",
   "metadata": {},
   "outputs": [],
   "source": [
    "print(LogReg_Model.summary())"
   ]
  },
  {
   "cell_type": "code",
   "execution_count": null,
   "id": "7cbeb232",
   "metadata": {},
   "outputs": [],
   "source": [
    "LogReg_Model.pvalues[0:17].plot.bar()\n",
    "plt.axhline(y = 0.05);"
   ]
  },
  {
   "cell_type": "code",
   "execution_count": null,
   "id": "f555cd70",
   "metadata": {},
   "outputs": [],
   "source": [
    "LogReg_Model.params[0:16].plot.bar();"
   ]
  },
  {
   "cell_type": "code",
   "execution_count": null,
   "id": "dc50ae7f",
   "metadata": {},
   "outputs": [],
   "source": [
    "quant_df_main = {}\n",
    "for i in LogReg_Model.params.to_dict().keys():\n",
    "    if LogReg_Model.pvalues[i] < 0.05:\n",
    "        quant_df_main[i] = LogReg_Model.params[i]\n",
    "    else:\n",
    "        continue\n",
    "        \n",
    "quant_df_main"
   ]
  },
  {
   "cell_type": "code",
   "execution_count": null,
   "id": "f2937354",
   "metadata": {},
   "outputs": [],
   "source": [
    "quant_df_main_odds = {k : np.exp(v) for k, v in quant_df_main.items()}\n",
    "quant_df_main_odds"
   ]
  },
  {
   "cell_type": "code",
   "execution_count": null,
   "id": "aa8eab88",
   "metadata": {},
   "outputs": [],
   "source": [
    "X_test.head()"
   ]
  },
  {
   "cell_type": "code",
   "execution_count": null,
   "id": "4fd84e7d",
   "metadata": {},
   "outputs": [],
   "source": [
    "yhat = LogReg_Model.predict(X_test)\n",
    "prediction = list(map(round, yhat))"
   ]
  },
  {
   "cell_type": "code",
   "execution_count": null,
   "id": "5a9e0177",
   "metadata": {},
   "outputs": [],
   "source": [
    "# confusion matrix\n",
    "cm = confusion_matrix(y_test, prediction)\n",
    "cm"
   ]
  },
  {
   "cell_type": "code",
   "execution_count": null,
   "id": "0e4ba8e4",
   "metadata": {},
   "outputs": [],
   "source": [
    "from statsmodels.stats.outliers_influence import variance_inflation_factor"
   ]
  },
  {
   "cell_type": "code",
   "execution_count": null,
   "id": "84d3c90f",
   "metadata": {},
   "outputs": [],
   "source": [
    "vif = pd.DataFrame()\n",
    "vif['Features'] = X_train.columns\n",
    "vif['VIF'] = [variance_inflation_factor(X_train.values, i) for i in range(X_train.shape[1])]\n",
    "vif['VIF'] = round(vif['VIF'], 2)\n",
    "vif = vif.sort_values(by = \"VIF\", ascending = False)\n",
    "vif[vif[\"VIF\"]>10][\"Features\"]"
   ]
  },
  {
   "cell_type": "code",
   "execution_count": null,
   "id": "395c86f4",
   "metadata": {},
   "outputs": [],
   "source": [
    "X_train = X_train.drop(vif[vif[\"VIF\"]>10][\"Features\"],axis = 1)"
   ]
  },
  {
   "cell_type": "code",
   "execution_count": null,
   "id": "90bd1dcb",
   "metadata": {},
   "outputs": [],
   "source": [
    "quantile_transformer = preprocessing.QuantileTransformer(random_state=0)\n",
    "X_train_trans = quantile_transformer.fit_transform(X_train)\n",
    "X_test_trans = quantile_transformer.transform(X_test)\n",
    "\n",
    "quantile_transformer = preprocessing.QuantileTransformer(output_distribution='normal', random_state=0)\n",
    "X_trans = quantile_transformer.fit_transform(X_train)\n"
   ]
  },
  {
   "cell_type": "code",
   "execution_count": null,
   "id": "fb79c6e6",
   "metadata": {},
   "outputs": [],
   "source": [
    "X_trans"
   ]
  },
  {
   "cell_type": "markdown",
   "id": "8fd6ff23",
   "metadata": {},
   "source": [
    "## KNN Classifier"
   ]
  },
  {
   "cell_type": "code",
   "execution_count": null,
   "id": "eccf4c23",
   "metadata": {},
   "outputs": [],
   "source": [
    "from sklearn.neighbors import KNeighborsClassifier\n",
    "from sklearn.model_selection import GridSearchCV\n",
    "knn_model = KNeighborsClassifier(n_neighbors=5)\n",
    "knn_model.fit(X_train,y_train)"
   ]
  },
  {
   "cell_type": "code",
   "execution_count": null,
   "id": "430ed115",
   "metadata": {},
   "outputs": [],
   "source": [
    "knn_model.score(X_test,y_test)"
   ]
  },
  {
   "cell_type": "code",
   "execution_count": null,
   "id": "88c051f8",
   "metadata": {},
   "outputs": [],
   "source": [
    "y_pred = knn_model.predict(X_test)"
   ]
  },
  {
   "cell_type": "code",
   "execution_count": null,
   "id": "8e384299",
   "metadata": {},
   "outputs": [],
   "source": [
    "accuracy_score(y_test,y_pred)"
   ]
  },
  {
   "cell_type": "code",
   "execution_count": null,
   "id": "fc23832c",
   "metadata": {},
   "outputs": [],
   "source": [
    "confusion_matrix(y_test,y_pred)"
   ]
  },
  {
   "cell_type": "code",
   "execution_count": null,
   "id": "1dfa91de",
   "metadata": {},
   "outputs": [],
   "source": [
    "cohen_kappa_score(y_test,y_pred)"
   ]
  },
  {
   "cell_type": "code",
   "execution_count": null,
   "id": "c697b31e",
   "metadata": {},
   "outputs": [],
   "source": [
    "y_pred_proba = knn_model.predict_proba(X_test)"
   ]
  },
  {
   "cell_type": "code",
   "execution_count": null,
   "id": "8d19d376",
   "metadata": {},
   "outputs": [],
   "source": [
    "roc_auc_score(y_test, y_pred_proba[:,1])"
   ]
  },
  {
   "cell_type": "code",
   "execution_count": null,
   "id": "088766df",
   "metadata": {},
   "outputs": [],
   "source": [
    "np.round(np.sqrt(X_train.shape[0]),0)"
   ]
  },
  {
   "cell_type": "code",
   "execution_count": null,
   "id": "5c594c99",
   "metadata": {},
   "outputs": [],
   "source": [
    "neighbors = np.arange(1, int(np.round(np.sqrt(X_train.shape[0]),0)))\n",
    "train_accuracy = np.empty(len(neighbors))\n",
    "test_accuracy = np.empty(len(neighbors))\n",
    "\n",
    "\n",
    "for i, k in enumerate(neighbors):\n",
    "    knn = KNeighborsClassifier(n_neighbors=k)\n",
    "    knn.fit(X_train, y_train) \n",
    "   \n",
    "    train_accuracy[i] = knn.score(X_train, y_train)\n",
    "    test_accuracy[i] = knn.score(X_test, y_test)\n",
    "    \n",
    "    # Generate plot\n",
    "plt.plot(neighbors, test_accuracy, label = 'Testing dataset Accuracy')\n",
    "plt.plot(neighbors, train_accuracy, label = 'Training dataset Accuracy')\n",
    " \n",
    "plt.legend()\n",
    "plt.xlabel('n_neighbors')\n",
    "plt.ylabel('Accuracy')\n",
    "plt.show()\n",
    "test_accuracy"
   ]
  },
  {
   "cell_type": "code",
   "execution_count": null,
   "id": "071bcf78",
   "metadata": {},
   "outputs": [],
   "source": [
    "n_neighbors = np.arange(1, int(np.round(np.sqrt(X_train.shape[0]),0)))\n",
    "weights = ['uniform', 'distance']\n",
    "leaf_size = [15,20,25,30,35,40,45,50]\n",
    "p = [1,2,3]\n",
    "hyperparams = {'weights': weights, 'n_neighbors': n_neighbors, 'leaf_size':leaf_size, 'p':p}\n",
    "gd=GridSearchCV(estimator = KNeighborsClassifier(), param_grid = hyperparams, verbose=True, \n",
    "                cv=5, scoring = \"roc_auc\")\n",
    "gd.fit(X_train, y_train)\n",
    "print(gd.best_score_)\n",
    "print(gd.best_estimator_)\n"
   ]
  },
  {
   "cell_type": "code",
   "execution_count": null,
   "id": "1e007cc8",
   "metadata": {},
   "outputs": [],
   "source": [
    "from sklearn.model_selection import RandomizedSearchCV\n",
    "n_neighbors = np.arange(1, int(np.round(np.sqrt(X_train.shape[0]),0)))\n",
    "weights = ['uniform', 'distance']\n",
    "leaf_size = [15,20,25,30,35,40,45,50]\n",
    "p = [1,2,3]\n",
    "hyperparams = {'weights': weights, 'n_neighbors': n_neighbors, 'leaf_size':leaf_size, 'p':p}\n",
    "gd=RandomizedSearchCV(estimator = KNeighborsClassifier(), param_distributions = hyperparams, verbose=True, n_iter = 30,\n",
    "                cv=5, scoring = \"roc_auc\",  random_state = 100)\n",
    "gd.fit(X_train, y_train)\n",
    "print(gd.best_score_)\n",
    "print(gd.best_estimator_)\n"
   ]
  },
  {
   "cell_type": "code",
   "execution_count": null,
   "id": "a58d5f6f",
   "metadata": {},
   "outputs": [],
   "source": [
    "gd.cv_results_"
   ]
  },
  {
   "cell_type": "markdown",
   "id": "b77d23b5",
   "metadata": {},
   "source": [
    "# Create a PipeLine that contains both a StandardScaler and a KNN model"
   ]
  },
  {
   "cell_type": "code",
   "execution_count": null,
   "id": "a4e97fb4",
   "metadata": {},
   "outputs": [],
   "source": [
    "from sklearn.preprocessing import StandardScaler\n",
    "from sklearn.neighbors import KNeighborsClassifier"
   ]
  },
  {
   "cell_type": "code",
   "execution_count": null,
   "id": "0f10827b",
   "metadata": {},
   "outputs": [],
   "source": [
    "scaler = StandardScaler()\n",
    "knn = KNeighborsClassifier()"
   ]
  },
  {
   "cell_type": "code",
   "execution_count": null,
   "id": "baf207a4",
   "metadata": {},
   "outputs": [],
   "source": [
    "operations = [('scaler',scaler),('knn',knn)]"
   ]
  },
  {
   "cell_type": "code",
   "execution_count": null,
   "id": "c122605f",
   "metadata": {},
   "outputs": [],
   "source": [
    "from sklearn.pipeline import Pipeline\n",
    "pipe = Pipeline(operations)"
   ]
  },
  {
   "cell_type": "code",
   "execution_count": null,
   "id": "376e37e7",
   "metadata": {},
   "outputs": [],
   "source": [
    "from sklearn.model_selection import GridSearchCV"
   ]
  },
  {
   "cell_type": "code",
   "execution_count": null,
   "id": "68867dbf",
   "metadata": {},
   "outputs": [],
   "source": [
    "scale_mean = [True, False]\n",
    "scale_sd = [True, False]\n",
    "k_values = list(range(10,20))\n",
    "p_val = [1,2,3]"
   ]
  },
  {
   "cell_type": "code",
   "execution_count": null,
   "id": "a5f422c0",
   "metadata": {},
   "outputs": [],
   "source": [
    "param_grid = {'scaler__with_mean':scale_mean,'scaler__with_std':scale_sd,'knn__n_neighbors': k_values, 'knn__p':p_val}\n",
    "param_grid"
   ]
  },
  {
   "cell_type": "code",
   "execution_count": null,
   "id": "10f1fbc9",
   "metadata": {},
   "outputs": [],
   "source": [
    "full_cv_classifier = GridSearchCV(pipe,param_grid,cv=5,scoring='accuracy')"
   ]
  },
  {
   "cell_type": "code",
   "execution_count": null,
   "id": "d2176bf6",
   "metadata": {},
   "outputs": [],
   "source": [
    "full_cv_classifier.fit(X_train,y_train)"
   ]
  },
  {
   "cell_type": "code",
   "execution_count": null,
   "id": "352ef0e5",
   "metadata": {},
   "outputs": [],
   "source": [
    "full_cv_classifier.best_estimator_.get_params()"
   ]
  },
  {
   "cell_type": "code",
   "execution_count": null,
   "id": "2082ff23",
   "metadata": {},
   "outputs": [],
   "source": [
    "full_cv_classifier.cv_results_['mean_test_score']"
   ]
  },
  {
   "cell_type": "code",
   "execution_count": null,
   "id": "8358a49b",
   "metadata": {},
   "outputs": [],
   "source": [
    "pred = full_cv_classifier.predict(X_test)"
   ]
  },
  {
   "cell_type": "code",
   "execution_count": null,
   "id": "41a21a6b",
   "metadata": {},
   "outputs": [],
   "source": [
    "confusion_matrix(y_test,pred)"
   ]
  },
  {
   "cell_type": "code",
   "execution_count": null,
   "id": "06827659",
   "metadata": {},
   "outputs": [],
   "source": [
    "cohen_kappa_score(y_test,pred)"
   ]
  },
  {
   "cell_type": "code",
   "execution_count": null,
   "id": "56db8989",
   "metadata": {},
   "outputs": [],
   "source": [
    "print(classification_report(y_test,pred))"
   ]
  },
  {
   "cell_type": "markdown",
   "id": "d99b4b16",
   "metadata": {},
   "source": [
    "# Support Vector Machines"
   ]
  },
  {
   "cell_type": "code",
   "execution_count": null,
   "id": "48900e3d",
   "metadata": {},
   "outputs": [],
   "source": [
    "from sklearn.svm import SVC\n",
    "from sklearn.svm import NuSVC"
   ]
  },
  {
   "cell_type": "code",
   "execution_count": null,
   "id": "9ea329e6",
   "metadata": {},
   "outputs": [],
   "source": [
    "model = SVC(kernel='linear', C=1, probability=True, gamma = \"auto\")\n",
    "model.fit(X_train, y_train)"
   ]
  },
  {
   "cell_type": "code",
   "execution_count": null,
   "id": "155c74ad",
   "metadata": {},
   "outputs": [],
   "source": [
    "Y_pred = model.predict(X_test)\n",
    "acc_svc = round(model.score(X_train, y_train) * 100, 2)\n",
    "acc_svc"
   ]
  },
  {
   "cell_type": "code",
   "execution_count": null,
   "id": "d51df2f8",
   "metadata": {},
   "outputs": [],
   "source": [
    "model = SVC(kernel='linear', C=0.05)\n",
    "model.fit(X_train, y_train)\n",
    "Y_pred = model.predict(X_test)\n",
    "acc_svc = round(model.score(X_train, y_train) * 100, 2)\n",
    "acc_svc"
   ]
  },
  {
   "cell_type": "code",
   "execution_count": null,
   "id": "95fb97d9",
   "metadata": {},
   "outputs": [],
   "source": [
    "model = SVC(kernel='rbf', C=1)\n",
    "model.fit(X_train, y_train)\n",
    "Y_pred = model.predict(X_test)\n",
    "acc_svc = round(model.score(X_train, y_train) * 100, 2)\n",
    "acc_svc"
   ]
  },
  {
   "cell_type": "code",
   "execution_count": null,
   "id": "1fa6af46",
   "metadata": {},
   "outputs": [],
   "source": [
    "model = SVC(kernel='sigmoid', C=1)\n",
    "model.fit(X_train, y_train)\n",
    "Y_pred = model.predict(X_test)\n",
    "acc_svc = round(model.score(X_train, y_train) * 100, 2)\n",
    "acc_svc"
   ]
  },
  {
   "cell_type": "code",
   "execution_count": null,
   "id": "8210763d",
   "metadata": {},
   "outputs": [],
   "source": [
    "model = SVC(kernel='poly', C=1, degree = 1)\n",
    "model.fit(X_train, y_train)\n",
    "Y_pred = model.predict(X_test)\n",
    "acc_svc = round(model.score(X_train, y_train) * 100, 2)\n",
    "acc_svc"
   ]
  },
  {
   "cell_type": "code",
   "execution_count": null,
   "id": "4b24a8c6",
   "metadata": {},
   "outputs": [],
   "source": [
    "model = SVC(kernel='poly', C=1, degree = 2)\n",
    "model.fit(X_train, y_train)\n",
    "Y_pred = model.predict(X_test)\n",
    "acc_svc = round(model.score(X_train, y_train) * 100, 2)\n",
    "acc_svc"
   ]
  },
  {
   "cell_type": "code",
   "execution_count": null,
   "id": "05a4dcb2",
   "metadata": {},
   "outputs": [],
   "source": [
    "model = SVC(kernel='rbf', C=1,gamma=0.01)\n",
    "model.fit(X_train, y_train)\n",
    "Y_pred = model.predict(X_test)\n",
    "acc_svc = round(model.score(X_train, y_train) * 100, 2)\n",
    "acc_svc"
   ]
  },
  {
   "cell_type": "code",
   "execution_count": null,
   "id": "3a7860ef",
   "metadata": {},
   "outputs": [],
   "source": [
    "from sklearn.model_selection import GridSearchCV\n",
    "SVMC = SVC(probability=True)\n",
    "svc_param_grid = {'kernel': ['linear', 'poly', 'rbf', 'sigmoid'], \n",
    "                  'gamma': [ 0.001, 0.01, 0.1, 1],\n",
    "                  'degree':[2,3,4,5],\n",
    "                  'C': [0.01,0.1,1, 10, 50, 100,200,300, 1000]}\n",
    "\n",
    "#gsSVMC = GridSearchCV(SVMC,param_grid = svc_param_grid, cv=5, scoring=\"accuracy\",  verbose = 1)\n",
    "gsSVMC=RandomizedSearchCV(estimator = SVMC, param_distributions = svc_param_grid, verbose=True, n_iter = 20,\n",
    "                cv=5, scoring = \"roc_auc\",  random_state = 100)\n",
    "\n",
    "gsSVMC.fit(X_train,y_train)\n",
    "\n",
    "SVMC_best = gsSVMC.best_estimator_\n",
    "\n",
    "# Best score\n",
    "gsSVMC.best_score_"
   ]
  },
  {
   "cell_type": "code",
   "execution_count": null,
   "id": "5651f340",
   "metadata": {},
   "outputs": [],
   "source": [
    "gsSVMC.best_estimator_.get_params()"
   ]
  },
  {
   "cell_type": "code",
   "execution_count": null,
   "id": "1eedac4d",
   "metadata": {},
   "outputs": [],
   "source": [
    "gsSVMC.cv_results_['mean_test_score']"
   ]
  },
  {
   "cell_type": "code",
   "execution_count": null,
   "id": "f9c11e3f",
   "metadata": {},
   "outputs": [],
   "source": [
    "pred = gsSVMC.predict(X_test)"
   ]
  },
  {
   "cell_type": "code",
   "execution_count": null,
   "id": "b431888c",
   "metadata": {},
   "outputs": [],
   "source": [
    "from sklearn.metrics import classification_report, confusion_matrix\n",
    "print(confusion_matrix(y_test,pred))\n",
    "print(classification_report(y_test,pred))"
   ]
  },
  {
   "cell_type": "code",
   "execution_count": null,
   "id": "e6b02ba8",
   "metadata": {},
   "outputs": [],
   "source": [
    "cohen_kappa_score(y_test,pred)"
   ]
  },
  {
   "cell_type": "markdown",
   "id": "ef4aa477",
   "metadata": {},
   "source": [
    "# Decision Tree"
   ]
  },
  {
   "cell_type": "code",
   "execution_count": null,
   "id": "20034409",
   "metadata": {},
   "outputs": [],
   "source": [
    "from sklearn.tree import DecisionTreeClassifier"
   ]
  },
  {
   "cell_type": "code",
   "execution_count": null,
   "id": "cbd5531d",
   "metadata": {},
   "outputs": [],
   "source": [
    "model = DecisionTreeClassifier()"
   ]
  },
  {
   "cell_type": "code",
   "execution_count": null,
   "id": "c21113c2",
   "metadata": {},
   "outputs": [],
   "source": [
    "model.fit(X_train,y_train)"
   ]
  },
  {
   "cell_type": "code",
   "execution_count": null,
   "id": "228496d2",
   "metadata": {},
   "outputs": [],
   "source": [
    "model.decision_path(X_train)"
   ]
  },
  {
   "cell_type": "code",
   "execution_count": null,
   "id": "6b93132f",
   "metadata": {},
   "outputs": [],
   "source": [
    "base_pred = model.predict(X_test)"
   ]
  },
  {
   "cell_type": "code",
   "execution_count": null,
   "id": "0a252b1f",
   "metadata": {},
   "outputs": [],
   "source": [
    "from sklearn.metrics import confusion_matrix,classification_report,plot_confusion_matrix"
   ]
  },
  {
   "cell_type": "code",
   "execution_count": null,
   "id": "3c737f91",
   "metadata": {},
   "outputs": [],
   "source": [
    "confusion_matrix(y_test,base_pred)"
   ]
  },
  {
   "cell_type": "code",
   "execution_count": null,
   "id": "10835056",
   "metadata": {},
   "outputs": [],
   "source": [
    "plot_confusion_matrix(model,X_test,y_test)"
   ]
  },
  {
   "cell_type": "code",
   "execution_count": null,
   "id": "e4435523",
   "metadata": {},
   "outputs": [],
   "source": [
    "print(classification_report(y_test,base_pred))"
   ]
  },
  {
   "cell_type": "code",
   "execution_count": null,
   "id": "f2efd9c2",
   "metadata": {},
   "outputs": [],
   "source": [
    "model.feature_importances_"
   ]
  },
  {
   "cell_type": "code",
   "execution_count": null,
   "id": "a851e17a",
   "metadata": {},
   "outputs": [],
   "source": [
    "pd.DataFrame(index=X.columns,data=model.feature_importances_,columns=['Feature Importance'])"
   ]
  },
  {
   "cell_type": "code",
   "execution_count": null,
   "id": "c90d1285",
   "metadata": {},
   "outputs": [],
   "source": [
    "from sklearn.tree import plot_tree"
   ]
  },
  {
   "cell_type": "code",
   "execution_count": null,
   "id": "89e73d08",
   "metadata": {},
   "outputs": [],
   "source": [
    "plt.figure(figsize=(20,15),dpi=300)\n",
    "plot_tree(model,filled=True,feature_names=X_train.columns);"
   ]
  },
  {
   "cell_type": "code",
   "execution_count": null,
   "id": "04a15a08",
   "metadata": {},
   "outputs": [],
   "source": [
    "def report_model(model):\n",
    "    model_preds = model.predict(X_test)\n",
    "    print(classification_report(y_test,model_preds))\n",
    "    print('\\n')\n",
    "    plt.figure(figsize=(20,15),dpi=300)\n",
    "    plot_tree(model,filled=True,feature_names=X.columns);"
   ]
  },
  {
   "cell_type": "code",
   "execution_count": null,
   "id": "7a4c4b9e",
   "metadata": {},
   "outputs": [],
   "source": [
    "pruned_tree = DecisionTreeClassifier(max_depth=3)\n",
    "pruned_tree.fit(X_train,y_train)"
   ]
  },
  {
   "cell_type": "code",
   "execution_count": null,
   "id": "e9824040",
   "metadata": {},
   "outputs": [],
   "source": [
    "report_model(pruned_tree)"
   ]
  },
  {
   "cell_type": "code",
   "execution_count": null,
   "id": "78572af2",
   "metadata": {},
   "outputs": [],
   "source": [
    "pruned_tree = DecisionTreeClassifier(max_leaf_nodes=3)\n",
    "pruned_tree.fit(X_train,y_train)"
   ]
  },
  {
   "cell_type": "code",
   "execution_count": null,
   "id": "03836465",
   "metadata": {},
   "outputs": [],
   "source": [
    "report_model(pruned_tree)"
   ]
  },
  {
   "cell_type": "code",
   "execution_count": null,
   "id": "c01d209f",
   "metadata": {},
   "outputs": [],
   "source": [
    "entropy_tree = DecisionTreeClassifier(criterion='entropy')\n",
    "entropy_tree.fit(X_train,y_train)"
   ]
  },
  {
   "cell_type": "code",
   "execution_count": null,
   "id": "cb4b477f",
   "metadata": {},
   "outputs": [],
   "source": [
    "report_model(entropy_tree)"
   ]
  },
  {
   "cell_type": "code",
   "execution_count": null,
   "id": "1f12127d",
   "metadata": {},
   "outputs": [],
   "source": [
    "from sklearn.model_selection import GridSearchCV\n",
    "D_tree = DecisionTreeClassifier()\n",
    "D_tree_param_grid = {'criterion': ['gini'], \n",
    "                  'max_depth': [ 'none', 4,5,6],\n",
    "                  'min_samples_split':[2,3,4],\n",
    "                  'min_samples_leaf': [1,2,3]}\n",
    "\n",
    "#gsSVMC = GridSearchCV(SVMC,param_grid = svc_param_grid, cv=5, scoring=\"accuracy\",  verbose = 1)\n",
    "#gsDtree=RandomizedSearchCV(estimator = D_tree, param_distributions = D_tree_param_grid, verbose=True, n_iter = 20,\n",
    "#                cv=5, scoring = \"roc_auc\",  random_state = 100)\n",
    "gsDtree=GridSearchCV(estimator = D_tree, param_grid = D_tree_param_grid, verbose=True,\n",
    "                cv=5, scoring = \"roc_auc\")\n",
    "\n",
    "gsDtree.fit(X_train,y_train)\n",
    "\n",
    "gsDtree_best = gsDtree.best_estimator_\n",
    "\n",
    "# Best score\n",
    "gsDtree.best_score_"
   ]
  },
  {
   "cell_type": "code",
   "execution_count": null,
   "id": "21838da8",
   "metadata": {},
   "outputs": [],
   "source": [
    "gsDtree.best_estimator_.get_params()"
   ]
  },
  {
   "cell_type": "code",
   "execution_count": null,
   "id": "30a28c0b",
   "metadata": {},
   "outputs": [],
   "source": [
    "gsDtree.cv_results_['mean_test_score']"
   ]
  },
  {
   "cell_type": "code",
   "execution_count": null,
   "id": "56f5e2b2",
   "metadata": {},
   "outputs": [],
   "source": [
    "pred = gsDtree.predict(X_test)"
   ]
  },
  {
   "cell_type": "code",
   "execution_count": null,
   "id": "bfa898f2",
   "metadata": {},
   "outputs": [],
   "source": [
    "from sklearn.metrics import classification_report, confusion_matrix\n",
    "print(confusion_matrix(y_test,pred))\n",
    "print(classification_report(y_test,pred))"
   ]
  },
  {
   "cell_type": "code",
   "execution_count": null,
   "id": "093a183a",
   "metadata": {},
   "outputs": [],
   "source": [
    "cohen_kappa_score(y_test,pred)"
   ]
  },
  {
   "cell_type": "markdown",
   "id": "1bf70bae",
   "metadata": {},
   "source": [
    "## Random Forest Classification"
   ]
  },
  {
   "cell_type": "code",
   "execution_count": null,
   "id": "989c8f16",
   "metadata": {},
   "outputs": [],
   "source": [
    "from sklearn.ensemble import RandomForestClassifier"
   ]
  },
  {
   "cell_type": "code",
   "execution_count": null,
   "id": "c472fa07",
   "metadata": {},
   "outputs": [],
   "source": [
    "# Use 10 random trees\n",
    "model = RandomForestClassifier(n_estimators=200,max_features='auto',criterion='entropy',random_state=100)\n",
    "model"
   ]
  },
  {
   "cell_type": "code",
   "execution_count": null,
   "id": "0b758fff",
   "metadata": {},
   "outputs": [],
   "source": [
    "XYZ = model.fit(X_train,y_train)"
   ]
  },
  {
   "cell_type": "code",
   "execution_count": null,
   "id": "4c009121",
   "metadata": {},
   "outputs": [],
   "source": [
    "preds = model.predict(X_test)"
   ]
  },
  {
   "cell_type": "code",
   "execution_count": null,
   "id": "5d22991c",
   "metadata": {},
   "outputs": [],
   "source": [
    "confusion_matrix(y_test,preds)"
   ]
  },
  {
   "cell_type": "code",
   "execution_count": null,
   "id": "8359f2c0",
   "metadata": {},
   "outputs": [],
   "source": [
    "plot_confusion_matrix(model,X_test,y_test)"
   ]
  },
  {
   "cell_type": "code",
   "execution_count": null,
   "id": "383aad2f",
   "metadata": {},
   "outputs": [],
   "source": [
    "model.feature_importances_"
   ]
  },
  {
   "cell_type": "code",
   "execution_count": null,
   "id": "de015295",
   "metadata": {},
   "outputs": [],
   "source": [
    "pd.DataFrame(index=X.columns,data=model.feature_importances_,columns=['Feature Importance'])"
   ]
  },
  {
   "cell_type": "code",
   "execution_count": null,
   "id": "f19dc41c",
   "metadata": {},
   "outputs": [],
   "source": [
    "test_error = []\n",
    "\n",
    "for n in range(25,1000,25):\n",
    "    # Use n random trees\n",
    "    model = RandomForestClassifier(n_estimators=n,max_features='auto')\n",
    "    model.fit(X_train,y_train)\n",
    "    test_preds = model.predict(X_test)\n",
    "    test_error.append(1-accuracy_score(test_preds,y_test))\n"
   ]
  },
  {
   "cell_type": "code",
   "execution_count": null,
   "id": "f33e055b",
   "metadata": {
    "scrolled": true
   },
   "outputs": [],
   "source": [
    "plt.plot(range(25,1000,25),test_error,label='Test Error')\n",
    "plt.legend()"
   ]
  },
  {
   "cell_type": "code",
   "execution_count": null,
   "id": "4a1fbf10",
   "metadata": {},
   "outputs": [],
   "source": [
    "test_error"
   ]
  },
  {
   "cell_type": "code",
   "execution_count": null,
   "id": "65aeda3e",
   "metadata": {},
   "outputs": [],
   "source": [
    "from sklearn.model_selection import GridSearchCV\n",
    "RFC = RandomForestClassifier(random_state=100)\n",
    "param_grid = {'n_estimators':[200,300,400],\n",
    "             'max_features':[2,3,4,5,6],\n",
    "             'bootstrap':[True, False],\n",
    "             'oob_score':[True, False],\n",
    "             'criterion':['gini','entropy'],\n",
    "              'min_samples_split':[2,5,8,12],\n",
    "              'min_samples_leaf': [1,2,3,4,5] } \n",
    "gsRFtree=RandomizedSearchCV(estimator = RFC, param_distributions = param_grid, verbose=True, n_iter = 20,\n",
    "                cv=5, scoring = \"accuracy\")\n",
    "\n",
    "gsRFtree.fit(X_train,y_train)\n",
    "\n",
    "gsDtree_best = gsRFtree.best_estimator_\n",
    "\n",
    "# Best score\n",
    "gsRFtree.best_score_"
   ]
  },
  {
   "cell_type": "code",
   "execution_count": null,
   "id": "b833cf3e",
   "metadata": {},
   "outputs": [],
   "source": [
    "print(gsRFtree.best_estimator_.get_params())\n",
    "print(gsRFtree.cv_results_['mean_test_score'])\n",
    "pred = gsRFtree.predict(X_test)\n",
    "print(cohen_kappa_score(y_test,pred))"
   ]
  },
  {
   "cell_type": "code",
   "execution_count": null,
   "id": "97862dbb",
   "metadata": {},
   "outputs": [],
   "source": [
    "gsRFtree.cv_results_"
   ]
  },
  {
   "cell_type": "code",
   "execution_count": null,
   "id": "5273e8da",
   "metadata": {},
   "outputs": [],
   "source": [
    "print(classification_report(y_test,pred))"
   ]
  },
  {
   "cell_type": "code",
   "execution_count": null,
   "id": "16433586",
   "metadata": {},
   "outputs": [],
   "source": [
    "plot_confusion_matrix(gsRFtree,X_test,y_test)"
   ]
  },
  {
   "cell_type": "markdown",
   "id": "afd1a66d",
   "metadata": {},
   "source": [
    "# Boosted Trees"
   ]
  },
  {
   "cell_type": "code",
   "execution_count": null,
   "id": "d1971de5",
   "metadata": {},
   "outputs": [],
   "source": [
    "from sklearn.ensemble import GradientBoostingClassifier"
   ]
  },
  {
   "cell_type": "code",
   "execution_count": null,
   "id": "0a76bc2c",
   "metadata": {},
   "outputs": [],
   "source": [
    "from sklearn.model_selection import GridSearchCV"
   ]
  },
  {
   "cell_type": "code",
   "execution_count": null,
   "id": "5f7e4ece",
   "metadata": {},
   "outputs": [],
   "source": [
    "param_grid = {\"n_estimators\":[10,20,40,80,160,320],'max_depth':[3,4,5,6], 'max_features':['auto']}"
   ]
  },
  {
   "cell_type": "code",
   "execution_count": null,
   "id": "151b6686",
   "metadata": {},
   "outputs": [],
   "source": [
    "gb_model = GradientBoostingClassifier()"
   ]
  },
  {
   "cell_type": "code",
   "execution_count": null,
   "id": "c0b66255",
   "metadata": {},
   "outputs": [],
   "source": [
    "grid = GridSearchCV(gb_model,param_grid)"
   ]
  },
  {
   "cell_type": "code",
   "execution_count": null,
   "id": "277b9d0f",
   "metadata": {},
   "outputs": [],
   "source": [
    "grid.fit(X_train,y_train)"
   ]
  },
  {
   "cell_type": "code",
   "execution_count": null,
   "id": "c21e8c8c",
   "metadata": {},
   "outputs": [],
   "source": [
    "grid.best_params_"
   ]
  },
  {
   "cell_type": "code",
   "execution_count": null,
   "id": "9160e387",
   "metadata": {},
   "outputs": [],
   "source": [
    "predictions = grid.predict(X_test)"
   ]
  },
  {
   "cell_type": "code",
   "execution_count": null,
   "id": "50aa61cf",
   "metadata": {},
   "outputs": [],
   "source": [
    "plot_confusion_matrix(grid,X_test,y_test)"
   ]
  },
  {
   "cell_type": "code",
   "execution_count": null,
   "id": "03115bf4",
   "metadata": {},
   "outputs": [],
   "source": [
    "print(classification_report(y_test,predictions))"
   ]
  },
  {
   "cell_type": "code",
   "execution_count": null,
   "id": "e60eb546",
   "metadata": {},
   "outputs": [],
   "source": [
    "grid.best_estimator_.feature_importances_"
   ]
  },
  {
   "cell_type": "code",
   "execution_count": null,
   "id": "0c343458",
   "metadata": {},
   "outputs": [],
   "source": [
    "feat_import = grid.best_estimator_.feature_importances_"
   ]
  },
  {
   "cell_type": "code",
   "execution_count": null,
   "id": "69da9186",
   "metadata": {},
   "outputs": [],
   "source": [
    "imp_feats = pd.DataFrame(index=X.columns,data=feat_import,columns=['Importance'])\n",
    "imp_feats"
   ]
  },
  {
   "cell_type": "code",
   "execution_count": null,
   "id": "a00d82b4",
   "metadata": {},
   "outputs": [],
   "source": [
    "imp_feats.sort_values(\"Importance\",ascending=False)"
   ]
  },
  {
   "cell_type": "code",
   "execution_count": null,
   "id": "b997bd71",
   "metadata": {},
   "outputs": [],
   "source": [
    "imp_feats.describe().transpose()"
   ]
  },
  {
   "cell_type": "code",
   "execution_count": null,
   "id": "226bfa0e",
   "metadata": {},
   "outputs": [],
   "source": [
    "imp_feats = imp_feats[imp_feats['Importance'] > 0.0005]"
   ]
  },
  {
   "cell_type": "code",
   "execution_count": null,
   "id": "b4857879",
   "metadata": {},
   "outputs": [],
   "source": [
    "imp_feats.sort_values('Importance')"
   ]
  },
  {
   "cell_type": "code",
   "execution_count": null,
   "id": "ca0b0675",
   "metadata": {},
   "outputs": [],
   "source": [
    "plt.figure(figsize=(14,6),dpi=200)\n",
    "sns.barplot(data=imp_feats.sort_values('Importance'),x=imp_feats.sort_values('Importance').index,y='Importance')\n",
    "plt.xticks(rotation=90);"
   ]
  },
  {
   "cell_type": "code",
   "execution_count": null,
   "id": "45dc611a",
   "metadata": {},
   "outputs": [],
   "source": [
    "from sklearn.model_selection import GridSearchCV\n",
    "model = GradientBoostingClassifier()\n",
    "param_grid = {'n_estimators':[10,20,40,80,160,320],\n",
    "              'learning_rate':[0.01,0.05,0.1,0.2, 0.3],\n",
    "              'min_samples_split':[2,5,8,12],\n",
    "              'min_samples_leaf': [1,2,3,4,5] ,\n",
    "              'max_depth':[2,3,4,5],\n",
    "              'max_features':['auto', 'sqrt', 'log2']} \n",
    "gsgbctree=RandomizedSearchCV(estimator = gbc, param_distributions = param_grid, verbose=True, n_iter = 50,\n",
    "                cv=5, scoring = \"accuracy\",  random_state = 100)\n",
    "\n",
    "gsgbctree.fit(X_train,y_train)\n",
    "\n",
    "gsDtree_best = gsgbctree.best_estimator_\n",
    "\n",
    "# Best score\n",
    "gsgbctree.best_score_"
   ]
  },
  {
   "cell_type": "code",
   "execution_count": null,
   "id": "26a8b986",
   "metadata": {},
   "outputs": [],
   "source": [
    "gsgbctree.best_estimator_"
   ]
  },
  {
   "cell_type": "code",
   "execution_count": null,
   "id": "99786706",
   "metadata": {},
   "outputs": [],
   "source": [
    "pip install xgboost"
   ]
  },
  {
   "cell_type": "markdown",
   "id": "8304974c",
   "metadata": {},
   "source": [
    "## XGBOOST"
   ]
  },
  {
   "cell_type": "code",
   "execution_count": null,
   "id": "37691d89",
   "metadata": {},
   "outputs": [],
   "source": [
    "from xgboost import XGBClassifier"
   ]
  },
  {
   "cell_type": "code",
   "execution_count": null,
   "id": "99bc9d4d",
   "metadata": {},
   "outputs": [],
   "source": [
    "model = XGBClassifier(use_label_encoder=False, \n",
    "                      booster='gbtree', # boosting algorithm to use, default gbtree, othera: gblinear, dart\n",
    "                      n_estimators=100, # number of trees, default = 100\n",
    "                      eta=0.3, # this is learning rate, default = 0.3\n",
    "                      max_depth=6, # maximum depth of the tree, default = 6\n",
    "                      gamma = 0, # used for pruning, if gain < gamma the branch will be pruned, default = 0\n",
    "                      reg_lambda = 1, # regularization parameter, defautl = 1\n",
    "                      #min_child_weight=0 # this refers to Cover which is also responsible for pruning if not set to 0\n",
    "                     )\n"
   ]
  },
  {
   "cell_type": "code",
   "execution_count": null,
   "id": "03940c0b",
   "metadata": {},
   "outputs": [],
   "source": [
    "clf = model.fit(X_train, y_train)"
   ]
  },
  {
   "cell_type": "code",
   "execution_count": null,
   "id": "47415ffb",
   "metadata": {},
   "outputs": [],
   "source": [
    "# Predict class labels on training data\n",
    "pred_labels_tr = model.predict(X_train)\n",
    "# Predict class labels on a test data\n",
    "pred_labels_te = model.predict(X_test)"
   ]
  },
  {
   "cell_type": "code",
   "execution_count": null,
   "id": "43fb77e1",
   "metadata": {},
   "outputs": [],
   "source": [
    "score_te = model.score(X_test, y_test)\n",
    "score_te"
   ]
  },
  {
   "cell_type": "code",
   "execution_count": null,
   "id": "2ae8deac",
   "metadata": {},
   "outputs": [],
   "source": [
    "score_tr = model.score(X_train, y_train)\n",
    "score_tr"
   ]
  },
  {
   "cell_type": "code",
   "execution_count": null,
   "id": "6a0c8244",
   "metadata": {},
   "outputs": [],
   "source": [
    "from sklearn.model_selection import GridSearchCV\n",
    "from sklearn.model_selection import RandomizedSearchCV"
   ]
  },
  {
   "cell_type": "code",
   "execution_count": null,
   "id": "bf82851e",
   "metadata": {},
   "outputs": [],
   "source": [
    "param_grid = {'eta':[0,0.2,0.4,0.6,0.8,1],'gamma':[0,1,2,4,8,16],\"n_estimators\":[1,5,10,20,40,100],'min_child_weight':[0,1,2,4,8,16],'max_depth':range(2,10),'subsample':[0,0.2,0.4,0.6,0.8,1]}\n"
   ]
  },
  {
   "cell_type": "code",
   "execution_count": null,
   "id": "38cd1183",
   "metadata": {},
   "outputs": [],
   "source": [
    "grid = RandomizedSearchCV(model,param_distributions=param_grid,scoring = 'accuracy',n_iter = 50)\n",
    "grid.fit(X_train,y_train)\n",
    "grid.best_params_\n"
   ]
  },
  {
   "cell_type": "code",
   "execution_count": null,
   "id": "947d57ce",
   "metadata": {},
   "outputs": [],
   "source": [
    "y_pred = grid.predict(X_test)\n",
    "[round(accuracy_score(y_test,y_pred),3),round(cohen_kappa_score(y_test,y_pred),3),round(roc_auc_score(y_test,y_pred),3)]\n"
   ]
  },
  {
   "cell_type": "markdown",
   "id": "364b4c15",
   "metadata": {},
   "source": [
    "## Naive bayes"
   ]
  },
  {
   "cell_type": "code",
   "execution_count": null,
   "id": "e2b8c11b",
   "metadata": {},
   "outputs": [],
   "source": [
    "from sklearn.naive_bayes import BernoulliNB\n",
    "classifier = BernoulliNB()\n",
    "classifier.fit(X_train, y_train)"
   ]
  },
  {
   "cell_type": "code",
   "execution_count": null,
   "id": "686dac4b",
   "metadata": {},
   "outputs": [],
   "source": [
    "y_pred = classifier.predict(X_test)"
   ]
  },
  {
   "cell_type": "code",
   "execution_count": null,
   "id": "feed2b60",
   "metadata": {},
   "outputs": [],
   "source": [
    "plot_confusion_matrix(classifier,X_test,y_test)"
   ]
  },
  {
   "cell_type": "code",
   "execution_count": null,
   "id": "6e0a2211",
   "metadata": {},
   "outputs": [],
   "source": [
    "accuracy_score(y_test, y_pred)"
   ]
  },
  {
   "cell_type": "code",
   "execution_count": null,
   "id": "1afe3cba",
   "metadata": {},
   "outputs": [],
   "source": [
    "param_grid = {'alpha':[0,0.25,0.5,0.75,1]}"
   ]
  },
  {
   "cell_type": "code",
   "execution_count": null,
   "id": "63058fe7",
   "metadata": {},
   "outputs": [],
   "source": [
    "grid = GridSearchCV(classifier,param_grid=param_grid)\n",
    "grid.fit(X_train,y_train)\n",
    "grid.best_params_"
   ]
  },
  {
   "cell_type": "code",
   "execution_count": null,
   "id": "959cbca7",
   "metadata": {},
   "outputs": [],
   "source": [
    "y_pred = grid.predict(X_test)\n",
    "[round(accuracy_score(y_test,y_pred),3),round(cohen_kappa_score(y_test,y_pred),3),round(roc_auc_score(y_test,y_pred),3)]\n"
   ]
  },
  {
   "cell_type": "code",
   "execution_count": null,
   "id": "8a69de2a",
   "metadata": {},
   "outputs": [],
   "source": [
    "plot_confusion_matrix(classifier,X_test,y_test)"
   ]
  },
  {
   "cell_type": "code",
   "execution_count": null,
   "id": "ea1835d6",
   "metadata": {},
   "outputs": [],
   "source": [
    "from sklearn.linear_model import Perceptron"
   ]
  },
  {
   "cell_type": "code",
   "execution_count": null,
   "id": "04e47bbe",
   "metadata": {},
   "outputs": [],
   "source": [
    "model = Perceptron()\n",
    "model.fit(X_train, y_train)\n",
    "y_pred = model.predict(X_test)"
   ]
  },
  {
   "cell_type": "code",
   "execution_count": null,
   "id": "e9dd3d05",
   "metadata": {},
   "outputs": [],
   "source": [
    "plot_confusion_matrix(perceptron,X_test,y_test)"
   ]
  },
  {
   "cell_type": "code",
   "execution_count": null,
   "id": "bbabf972",
   "metadata": {},
   "outputs": [],
   "source": [
    "param_grid = {'penalty':['l2','l1','elasticnet'],\n",
    "             'alpha':[0.001,0.01,0.1,1,10,100],\n",
    "              'l1_ratio':[0.05,0.15,0.25,0.5,0.75,0.85,0.95]}\n"
   ]
  },
  {
   "cell_type": "code",
   "execution_count": null,
   "id": "b83b4565",
   "metadata": {},
   "outputs": [],
   "source": [
    "grid = GridSearchCV(model,param_grid=param_grid)\n",
    "grid.fit(X_train,y_train)\n",
    "grid.best_params_"
   ]
  },
  {
   "cell_type": "code",
   "execution_count": null,
   "id": "4cf6f2df",
   "metadata": {},
   "outputs": [],
   "source": [
    "y_pred = grid.predict(X_test)\n",
    "[round(accuracy_score(y_test,y_pred),3),round(cohen_kappa_score(y_test,y_pred),3),round(roc_auc_score(y_test,y_pred),3)]\n"
   ]
  },
  {
   "cell_type": "code",
   "execution_count": null,
   "id": "b50a0871",
   "metadata": {},
   "outputs": [],
   "source": [
    "from sklearn.neural_network import MLPClassifier"
   ]
  },
  {
   "cell_type": "code",
   "execution_count": null,
   "id": "187e250f",
   "metadata": {},
   "outputs": [],
   "source": [
    "model = MLPClassifier()\n",
    "model.fit(X_train, y_train)\n",
    "y_pred = perceptron.predict(X_test)"
   ]
  },
  {
   "cell_type": "code",
   "execution_count": null,
   "id": "9cc93a2a",
   "metadata": {},
   "outputs": [],
   "source": [
    "plot_confusion_matrix(model,X_test,y_test)"
   ]
  },
  {
   "cell_type": "code",
   "execution_count": null,
   "id": "905a81a6",
   "metadata": {},
   "outputs": [],
   "source": [
    "from sklearn.model_selection import GridSearchCV\n",
    "from sklearn.model_selection import RandomizedSearchCV\n"
   ]
  },
  {
   "cell_type": "code",
   "execution_count": null,
   "id": "91dce4d9",
   "metadata": {},
   "outputs": [],
   "source": [
    "param_grid = {'activation':['identity','logistic','tanh','relu'],\n",
    "             'learning_rate':['constant','invscaling','adaptive'],\n",
    "              'learning_rate_init':[0.001, 0.005, 0.01],\n",
    "              'shuffle':[True, False]}"
   ]
  },
  {
   "cell_type": "code",
   "execution_count": null,
   "id": "7ae0438b",
   "metadata": {},
   "outputs": [],
   "source": [
    "grid = GridSearchCV(model,param_grid=param_grid)\n",
    "grid.fit(X_train,y_train)\n",
    "grid.best_params_"
   ]
  },
  {
   "cell_type": "code",
   "execution_count": null,
   "id": "57398b15",
   "metadata": {},
   "outputs": [],
   "source": [
    "y_pred = grid.predict(X_test)\n",
    "[round(accuracy_score(y_test,y_pred),3),round(cohen_kappa_score(y_test,y_pred),3),round(roc_auc_score(y_test,y_pred),3)]\n"
   ]
  },
  {
   "cell_type": "markdown",
   "id": "9138b3e4",
   "metadata": {},
   "source": [
    "# Implementing an end-end project using Pipeline"
   ]
  },
  {
   "cell_type": "code",
   "execution_count": null,
   "id": "9c11ba3f",
   "metadata": {},
   "outputs": [],
   "source": [
    "from sklearn.preprocessing import StandardScaler\n",
    "from sklearn.preprocessing import  MinMaxScaler\n",
    "from sklearn.model_selection import train_test_split\n",
    "from sklearn.model_selection import KFold\n",
    "from sklearn.model_selection import StratifiedKFold\n",
    "from sklearn.model_selection import cross_val_score\n",
    "from sklearn.model_selection import GridSearchCV\n",
    "from sklearn.metrics import classification_report\n",
    "from sklearn.metrics import confusion_matrix\n",
    "from sklearn.metrics import accuracy_score\n",
    "from sklearn.metrics import cohen_kappa_score\n",
    "from sklearn.pipeline import Pipeline\n",
    "from sklearn.linear_model import LogisticRegression\n",
    "from sklearn.tree import DecisionTreeClassifier\n",
    "from sklearn.neighbors import KNeighborsClassifier\n",
    "from sklearn.discriminant_analysis import LinearDiscriminantAnalysis\n",
    "from sklearn.naive_bayes import GaussianNB\n",
    "from sklearn.svm import SVC\n",
    "from sklearn.ensemble import AdaBoostClassifier\n",
    "from sklearn.ensemble import GradientBoostingClassifier\n",
    "from sklearn.ensemble import RandomForestClassifier\n",
    "from sklearn.neural_network import MLPClassifier"
   ]
  },
  {
   "cell_type": "code",
   "execution_count": null,
   "id": "77ba9c7d",
   "metadata": {},
   "outputs": [],
   "source": [
    "def GetBasedModel():\n",
    "    basedModels = []\n",
    "    basedModels.append(('LR'   , LogisticRegression()))\n",
    "    basedModels.append(('LDA'  , LinearDiscriminantAnalysis()))\n",
    "    basedModels.append(('KNN'  , KNeighborsClassifier()))\n",
    "    basedModels.append(('CART' , DecisionTreeClassifier()))\n",
    "    basedModels.append(('NB'   , GaussianNB()))\n",
    "    basedModels.append(('SVM'  , SVC(probability=True)))\n",
    "    basedModels.append(('AB'   , AdaBoostClassifier()))\n",
    "    basedModels.append(('GBM'  , GradientBoostingClassifier()))\n",
    "    basedModels.append(('RF'   , RandomForestClassifier()))\n",
    "    basedModels.append(('NN'   , MLPClassifier()))\n",
    "    \n",
    "    return basedModels\n"
   ]
  },
  {
   "cell_type": "code",
   "execution_count": null,
   "id": "6b08aa19",
   "metadata": {},
   "outputs": [],
   "source": [
    "def BasedLine2(X_train, y_train,models):\n",
    "    # Test options and evaluation metric\n",
    "    num_folds = 10\n",
    "    scoring = 'accuracy'\n",
    "\n",
    "    results = []\n",
    "    names = []\n",
    "    for name, model in models:\n",
    "        kfold = StratifiedKFold(n_splits=num_folds)\n",
    "        cv_results = cross_val_score(model, X_train, y_train, cv=kfold, scoring=scoring)\n",
    "        results.append(cv_results)\n",
    "        names.append(name)\n",
    "        msg = \"%s: %f (%f)\" % (name, cv_results.mean(), cv_results.std())\n",
    "        print(msg)\n",
    "        \n",
    "    return names, results"
   ]
  },
  {
   "cell_type": "code",
   "execution_count": null,
   "id": "8ba8e53b",
   "metadata": {},
   "outputs": [],
   "source": [
    "models = GetBasedModel()\n",
    "names,results = BasedLine2(X_train, y_train,models)"
   ]
  },
  {
   "cell_type": "code",
   "execution_count": null,
   "id": "4db2a59a",
   "metadata": {},
   "outputs": [],
   "source": [
    "from sklearn.preprocessing import StandardScaler\n",
    "from sklearn.preprocessing import MinMaxScaler\n",
    "\n",
    "\n",
    "def GetScaledModel(nameOfScaler):\n",
    "    \n",
    "    if nameOfScaler == 'standard':\n",
    "        scaler = StandardScaler()\n",
    "    elif nameOfScaler =='minmax':\n",
    "        scaler = MinMaxScaler()\n",
    "\n",
    "    pipelines = []\n",
    "    pipelines.append((nameOfScaler+'LR'  , Pipeline([('Scaler', scaler),('LR'  , LogisticRegression())])))\n",
    "    pipelines.append((nameOfScaler+'LDA' , Pipeline([('Scaler', scaler),('LDA' , LinearDiscriminantAnalysis())])))\n",
    "    pipelines.append((nameOfScaler+'KNN' , Pipeline([('Scaler', scaler),('KNN' , KNeighborsClassifier())])))\n",
    "    pipelines.append((nameOfScaler+'CART', Pipeline([('Scaler', scaler),('CART', DecisionTreeClassifier())])))\n",
    "    pipelines.append((nameOfScaler+'NB'  , Pipeline([('Scaler', scaler),('NB'  , GaussianNB())])))\n",
    "    pipelines.append((nameOfScaler+'SVM' , Pipeline([('Scaler', scaler),('SVM' , SVC())])))\n",
    "    pipelines.append((nameOfScaler+'AB'  , Pipeline([('Scaler', scaler),('AB'  , AdaBoostClassifier())])  ))\n",
    "    pipelines.append((nameOfScaler+'GBM' , Pipeline([('Scaler', scaler),('GMB' , GradientBoostingClassifier())])  ))\n",
    "    pipelines.append((nameOfScaler+'RF'  , Pipeline([('Scaler', scaler),('RF'  , RandomForestClassifier())])  ))\n",
    "    pipelines.append((nameOfScaler+'NN'  , Pipeline([('Scaler', scaler),('NN'  , MLPClassifier())])  ))\n",
    "\n",
    "\n",
    "    return pipelines "
   ]
  },
  {
   "cell_type": "code",
   "execution_count": null,
   "id": "671244e3",
   "metadata": {},
   "outputs": [],
   "source": [
    "models = GetScaledModel('minmax')\n",
    "names,results = BasedLine2(X_train, y_train,models)\n"
   ]
  },
  {
   "cell_type": "code",
   "execution_count": null,
   "id": "50401b45",
   "metadata": {},
   "outputs": [],
   "source": []
  }
 ],
 "metadata": {
  "kernelspec": {
   "display_name": "Python 3 (ipykernel)",
   "language": "python",
   "name": "python3"
  },
  "language_info": {
   "codemirror_mode": {
    "name": "ipython",
    "version": 3
   },
   "file_extension": ".py",
   "mimetype": "text/x-python",
   "name": "python",
   "nbconvert_exporter": "python",
   "pygments_lexer": "ipython3",
   "version": "3.9.7"
  }
 },
 "nbformat": 4,
 "nbformat_minor": 5
}
