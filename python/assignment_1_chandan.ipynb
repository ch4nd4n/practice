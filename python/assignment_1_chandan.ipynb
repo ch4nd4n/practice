{
 "cells": [
  {
   "cell_type": "code",
   "execution_count": 44,
   "metadata": {},
   "outputs": [],
   "source": [
    "import pandas as pd\n",
    "from sklearn.tree import DecisionTreeRegressor\n",
    "from sklearn.ensemble import RandomForestRegressor\n",
    "from sklearn.model_selection import train_test_split\n",
    "from sklearn.metrics import mean_absolute_error\n",
    "\n",
    "from mlxtend.feature_selection import ExhaustiveFeatureSelector\n",
    "from sklearn.ensemble import RandomForestClassifier"
   ]
  },
  {
   "cell_type": "code",
   "execution_count": 45,
   "metadata": {},
   "outputs": [],
   "source": [
    "data = \"./data/Assignment_PA.csv\""
   ]
  },
  {
   "cell_type": "code",
   "execution_count": 46,
   "metadata": {},
   "outputs": [],
   "source": [
    "df = pd.read_csv(data)"
   ]
  },
  {
   "cell_type": "code",
   "execution_count": 47,
   "metadata": {},
   "outputs": [
    {
     "data": {
      "text/html": [
       "<div>\n",
       "<style scoped>\n",
       "    .dataframe tbody tr th:only-of-type {\n",
       "        vertical-align: middle;\n",
       "    }\n",
       "\n",
       "    .dataframe tbody tr th {\n",
       "        vertical-align: top;\n",
       "    }\n",
       "\n",
       "    .dataframe thead th {\n",
       "        text-align: right;\n",
       "    }\n",
       "</style>\n",
       "<table border=\"1\" class=\"dataframe\">\n",
       "  <thead>\n",
       "    <tr style=\"text-align: right;\">\n",
       "      <th></th>\n",
       "      <th>V1</th>\n",
       "      <th>V2</th>\n",
       "      <th>V3</th>\n",
       "      <th>V4</th>\n",
       "      <th>V5</th>\n",
       "      <th>V6</th>\n",
       "      <th>V7</th>\n",
       "      <th>V8</th>\n",
       "      <th>V9</th>\n",
       "      <th>V10</th>\n",
       "      <th>...</th>\n",
       "      <th>V25</th>\n",
       "      <th>V26</th>\n",
       "      <th>V27</th>\n",
       "      <th>V28</th>\n",
       "      <th>V29</th>\n",
       "      <th>V30</th>\n",
       "      <th>V31</th>\n",
       "      <th>V32</th>\n",
       "      <th>V33</th>\n",
       "      <th>Class</th>\n",
       "    </tr>\n",
       "  </thead>\n",
       "  <tbody>\n",
       "    <tr>\n",
       "      <th>count</th>\n",
       "      <td>1941.00</td>\n",
       "      <td>1941.00</td>\n",
       "      <td>1941.00</td>\n",
       "      <td>1941.00</td>\n",
       "      <td>1941.00</td>\n",
       "      <td>1941.00</td>\n",
       "      <td>1941.00</td>\n",
       "      <td>1941.00</td>\n",
       "      <td>1941.00</td>\n",
       "      <td>1941.00</td>\n",
       "      <td>...</td>\n",
       "      <td>1941.00</td>\n",
       "      <td>1941.00</td>\n",
       "      <td>1941.00</td>\n",
       "      <td>1941.00</td>\n",
       "      <td>1941.0</td>\n",
       "      <td>1941.0</td>\n",
       "      <td>1941.00</td>\n",
       "      <td>1941.00</td>\n",
       "      <td>1941.00</td>\n",
       "      <td>1941.00</td>\n",
       "    </tr>\n",
       "    <tr>\n",
       "      <th>mean</th>\n",
       "      <td>571.14</td>\n",
       "      <td>617.96</td>\n",
       "      <td>1650684.87</td>\n",
       "      <td>1650738.71</td>\n",
       "      <td>1893.88</td>\n",
       "      <td>111.86</td>\n",
       "      <td>82.97</td>\n",
       "      <td>206312.15</td>\n",
       "      <td>84.55</td>\n",
       "      <td>130.19</td>\n",
       "      <td>...</td>\n",
       "      <td>0.08</td>\n",
       "      <td>-0.13</td>\n",
       "      <td>0.59</td>\n",
       "      <td>0.08</td>\n",
       "      <td>0.1</td>\n",
       "      <td>0.2</td>\n",
       "      <td>0.04</td>\n",
       "      <td>0.03</td>\n",
       "      <td>0.21</td>\n",
       "      <td>1.35</td>\n",
       "    </tr>\n",
       "    <tr>\n",
       "      <th>std</th>\n",
       "      <td>520.69</td>\n",
       "      <td>497.63</td>\n",
       "      <td>1774578.41</td>\n",
       "      <td>1774590.09</td>\n",
       "      <td>5168.46</td>\n",
       "      <td>301.21</td>\n",
       "      <td>426.48</td>\n",
       "      <td>512293.59</td>\n",
       "      <td>32.13</td>\n",
       "      <td>18.69</td>\n",
       "      <td>...</td>\n",
       "      <td>0.50</td>\n",
       "      <td>0.15</td>\n",
       "      <td>0.34</td>\n",
       "      <td>0.27</td>\n",
       "      <td>0.3</td>\n",
       "      <td>0.4</td>\n",
       "      <td>0.19</td>\n",
       "      <td>0.17</td>\n",
       "      <td>0.41</td>\n",
       "      <td>0.48</td>\n",
       "    </tr>\n",
       "    <tr>\n",
       "      <th>min</th>\n",
       "      <td>0.00</td>\n",
       "      <td>4.00</td>\n",
       "      <td>6712.00</td>\n",
       "      <td>6724.00</td>\n",
       "      <td>2.00</td>\n",
       "      <td>2.00</td>\n",
       "      <td>1.00</td>\n",
       "      <td>250.00</td>\n",
       "      <td>0.00</td>\n",
       "      <td>37.00</td>\n",
       "      <td>...</td>\n",
       "      <td>-0.99</td>\n",
       "      <td>-1.00</td>\n",
       "      <td>0.12</td>\n",
       "      <td>0.00</td>\n",
       "      <td>0.0</td>\n",
       "      <td>0.0</td>\n",
       "      <td>0.00</td>\n",
       "      <td>0.00</td>\n",
       "      <td>0.00</td>\n",
       "      <td>1.00</td>\n",
       "    </tr>\n",
       "    <tr>\n",
       "      <th>25%</th>\n",
       "      <td>51.00</td>\n",
       "      <td>192.00</td>\n",
       "      <td>471253.00</td>\n",
       "      <td>471281.00</td>\n",
       "      <td>84.00</td>\n",
       "      <td>15.00</td>\n",
       "      <td>13.00</td>\n",
       "      <td>9522.00</td>\n",
       "      <td>63.00</td>\n",
       "      <td>124.00</td>\n",
       "      <td>...</td>\n",
       "      <td>-0.33</td>\n",
       "      <td>-0.20</td>\n",
       "      <td>0.25</td>\n",
       "      <td>0.00</td>\n",
       "      <td>0.0</td>\n",
       "      <td>0.0</td>\n",
       "      <td>0.00</td>\n",
       "      <td>0.00</td>\n",
       "      <td>0.00</td>\n",
       "      <td>1.00</td>\n",
       "    </tr>\n",
       "    <tr>\n",
       "      <th>50%</th>\n",
       "      <td>435.00</td>\n",
       "      <td>467.00</td>\n",
       "      <td>1204128.00</td>\n",
       "      <td>1204136.00</td>\n",
       "      <td>174.00</td>\n",
       "      <td>26.00</td>\n",
       "      <td>25.00</td>\n",
       "      <td>19202.00</td>\n",
       "      <td>90.00</td>\n",
       "      <td>127.00</td>\n",
       "      <td>...</td>\n",
       "      <td>0.10</td>\n",
       "      <td>-0.13</td>\n",
       "      <td>0.51</td>\n",
       "      <td>0.00</td>\n",
       "      <td>0.0</td>\n",
       "      <td>0.0</td>\n",
       "      <td>0.00</td>\n",
       "      <td>0.00</td>\n",
       "      <td>0.00</td>\n",
       "      <td>1.00</td>\n",
       "    </tr>\n",
       "    <tr>\n",
       "      <th>75%</th>\n",
       "      <td>1053.00</td>\n",
       "      <td>1072.00</td>\n",
       "      <td>2183073.00</td>\n",
       "      <td>2183084.00</td>\n",
       "      <td>822.00</td>\n",
       "      <td>84.00</td>\n",
       "      <td>83.00</td>\n",
       "      <td>83011.00</td>\n",
       "      <td>106.00</td>\n",
       "      <td>140.00</td>\n",
       "      <td>...</td>\n",
       "      <td>0.51</td>\n",
       "      <td>-0.07</td>\n",
       "      <td>1.00</td>\n",
       "      <td>0.00</td>\n",
       "      <td>0.0</td>\n",
       "      <td>0.0</td>\n",
       "      <td>0.00</td>\n",
       "      <td>0.00</td>\n",
       "      <td>0.00</td>\n",
       "      <td>2.00</td>\n",
       "    </tr>\n",
       "    <tr>\n",
       "      <th>max</th>\n",
       "      <td>1705.00</td>\n",
       "      <td>1713.00</td>\n",
       "      <td>12987661.00</td>\n",
       "      <td>12987692.00</td>\n",
       "      <td>152655.00</td>\n",
       "      <td>10449.00</td>\n",
       "      <td>18152.00</td>\n",
       "      <td>11591414.00</td>\n",
       "      <td>203.00</td>\n",
       "      <td>253.00</td>\n",
       "      <td>...</td>\n",
       "      <td>0.99</td>\n",
       "      <td>0.64</td>\n",
       "      <td>1.00</td>\n",
       "      <td>1.00</td>\n",
       "      <td>1.0</td>\n",
       "      <td>1.0</td>\n",
       "      <td>1.00</td>\n",
       "      <td>1.00</td>\n",
       "      <td>1.00</td>\n",
       "      <td>2.00</td>\n",
       "    </tr>\n",
       "  </tbody>\n",
       "</table>\n",
       "<p>8 rows × 34 columns</p>\n",
       "</div>"
      ],
      "text/plain": [
       "            V1       V2           V3           V4         V5        V6  \\\n",
       "count  1941.00  1941.00      1941.00      1941.00    1941.00   1941.00   \n",
       "mean    571.14   617.96   1650684.87   1650738.71    1893.88    111.86   \n",
       "std     520.69   497.63   1774578.41   1774590.09    5168.46    301.21   \n",
       "min       0.00     4.00      6712.00      6724.00       2.00      2.00   \n",
       "25%      51.00   192.00    471253.00    471281.00      84.00     15.00   \n",
       "50%     435.00   467.00   1204128.00   1204136.00     174.00     26.00   \n",
       "75%    1053.00  1072.00   2183073.00   2183084.00     822.00     84.00   \n",
       "max    1705.00  1713.00  12987661.00  12987692.00  152655.00  10449.00   \n",
       "\n",
       "             V7           V8       V9      V10  ...      V25      V26  \\\n",
       "count   1941.00      1941.00  1941.00  1941.00  ...  1941.00  1941.00   \n",
       "mean      82.97    206312.15    84.55   130.19  ...     0.08    -0.13   \n",
       "std      426.48    512293.59    32.13    18.69  ...     0.50     0.15   \n",
       "min        1.00       250.00     0.00    37.00  ...    -0.99    -1.00   \n",
       "25%       13.00      9522.00    63.00   124.00  ...    -0.33    -0.20   \n",
       "50%       25.00     19202.00    90.00   127.00  ...     0.10    -0.13   \n",
       "75%       83.00     83011.00   106.00   140.00  ...     0.51    -0.07   \n",
       "max    18152.00  11591414.00   203.00   253.00  ...     0.99     0.64   \n",
       "\n",
       "           V27      V28     V29     V30      V31      V32      V33    Class  \n",
       "count  1941.00  1941.00  1941.0  1941.0  1941.00  1941.00  1941.00  1941.00  \n",
       "mean      0.59     0.08     0.1     0.2     0.04     0.03     0.21     1.35  \n",
       "std       0.34     0.27     0.3     0.4     0.19     0.17     0.41     0.48  \n",
       "min       0.12     0.00     0.0     0.0     0.00     0.00     0.00     1.00  \n",
       "25%       0.25     0.00     0.0     0.0     0.00     0.00     0.00     1.00  \n",
       "50%       0.51     0.00     0.0     0.0     0.00     0.00     0.00     1.00  \n",
       "75%       1.00     0.00     0.0     0.0     0.00     0.00     0.00     2.00  \n",
       "max       1.00     1.00     1.0     1.0     1.00     1.00     1.00     2.00  \n",
       "\n",
       "[8 rows x 34 columns]"
      ]
     },
     "execution_count": 47,
     "metadata": {},
     "output_type": "execute_result"
    }
   ],
   "source": [
    "round(df.describe(), 2)"
   ]
  },
  {
   "cell_type": "code",
   "execution_count": 48,
   "metadata": {},
   "outputs": [
    {
     "data": {
      "text/html": [
       "<div>\n",
       "<style scoped>\n",
       "    .dataframe tbody tr th:only-of-type {\n",
       "        vertical-align: middle;\n",
       "    }\n",
       "\n",
       "    .dataframe tbody tr th {\n",
       "        vertical-align: top;\n",
       "    }\n",
       "\n",
       "    .dataframe thead th {\n",
       "        text-align: right;\n",
       "    }\n",
       "</style>\n",
       "<table border=\"1\" class=\"dataframe\">\n",
       "  <thead>\n",
       "    <tr style=\"text-align: right;\">\n",
       "      <th></th>\n",
       "      <th>V1</th>\n",
       "      <th>V2</th>\n",
       "      <th>V3</th>\n",
       "      <th>V4</th>\n",
       "      <th>V5</th>\n",
       "      <th>V6</th>\n",
       "      <th>V7</th>\n",
       "      <th>V8</th>\n",
       "      <th>V9</th>\n",
       "      <th>V10</th>\n",
       "      <th>...</th>\n",
       "      <th>V25</th>\n",
       "      <th>V26</th>\n",
       "      <th>V27</th>\n",
       "      <th>V28</th>\n",
       "      <th>V29</th>\n",
       "      <th>V30</th>\n",
       "      <th>V31</th>\n",
       "      <th>V32</th>\n",
       "      <th>V33</th>\n",
       "      <th>Class</th>\n",
       "    </tr>\n",
       "  </thead>\n",
       "  <tbody>\n",
       "    <tr>\n",
       "      <th>1936</th>\n",
       "      <td>249</td>\n",
       "      <td>277</td>\n",
       "      <td>325780</td>\n",
       "      <td>325796</td>\n",
       "      <td>273</td>\n",
       "      <td>54</td>\n",
       "      <td>22</td>\n",
       "      <td>35033</td>\n",
       "      <td>119</td>\n",
       "      <td>141</td>\n",
       "      <td>...</td>\n",
       "      <td>-0.4286</td>\n",
       "      <td>0.0026</td>\n",
       "      <td>0.7254</td>\n",
       "      <td>0</td>\n",
       "      <td>0</td>\n",
       "      <td>0</td>\n",
       "      <td>0</td>\n",
       "      <td>0</td>\n",
       "      <td>0</td>\n",
       "      <td>2</td>\n",
       "    </tr>\n",
       "    <tr>\n",
       "      <th>1937</th>\n",
       "      <td>144</td>\n",
       "      <td>175</td>\n",
       "      <td>340581</td>\n",
       "      <td>340598</td>\n",
       "      <td>287</td>\n",
       "      <td>44</td>\n",
       "      <td>24</td>\n",
       "      <td>34599</td>\n",
       "      <td>112</td>\n",
       "      <td>133</td>\n",
       "      <td>...</td>\n",
       "      <td>-0.4516</td>\n",
       "      <td>-0.0582</td>\n",
       "      <td>0.8173</td>\n",
       "      <td>0</td>\n",
       "      <td>0</td>\n",
       "      <td>0</td>\n",
       "      <td>0</td>\n",
       "      <td>0</td>\n",
       "      <td>0</td>\n",
       "      <td>2</td>\n",
       "    </tr>\n",
       "    <tr>\n",
       "      <th>1938</th>\n",
       "      <td>145</td>\n",
       "      <td>174</td>\n",
       "      <td>386779</td>\n",
       "      <td>386794</td>\n",
       "      <td>292</td>\n",
       "      <td>40</td>\n",
       "      <td>22</td>\n",
       "      <td>37572</td>\n",
       "      <td>120</td>\n",
       "      <td>140</td>\n",
       "      <td>...</td>\n",
       "      <td>-0.4828</td>\n",
       "      <td>0.0052</td>\n",
       "      <td>0.7079</td>\n",
       "      <td>0</td>\n",
       "      <td>0</td>\n",
       "      <td>0</td>\n",
       "      <td>0</td>\n",
       "      <td>0</td>\n",
       "      <td>0</td>\n",
       "      <td>2</td>\n",
       "    </tr>\n",
       "    <tr>\n",
       "      <th>1939</th>\n",
       "      <td>137</td>\n",
       "      <td>170</td>\n",
       "      <td>422497</td>\n",
       "      <td>422528</td>\n",
       "      <td>419</td>\n",
       "      <td>97</td>\n",
       "      <td>47</td>\n",
       "      <td>52715</td>\n",
       "      <td>117</td>\n",
       "      <td>140</td>\n",
       "      <td>...</td>\n",
       "      <td>-0.0606</td>\n",
       "      <td>-0.0171</td>\n",
       "      <td>0.9919</td>\n",
       "      <td>0</td>\n",
       "      <td>0</td>\n",
       "      <td>0</td>\n",
       "      <td>0</td>\n",
       "      <td>0</td>\n",
       "      <td>0</td>\n",
       "      <td>2</td>\n",
       "    </tr>\n",
       "    <tr>\n",
       "      <th>1940</th>\n",
       "      <td>1261</td>\n",
       "      <td>1281</td>\n",
       "      <td>87951</td>\n",
       "      <td>87967</td>\n",
       "      <td>103</td>\n",
       "      <td>26</td>\n",
       "      <td>22</td>\n",
       "      <td>11682</td>\n",
       "      <td>101</td>\n",
       "      <td>133</td>\n",
       "      <td>...</td>\n",
       "      <td>-0.2000</td>\n",
       "      <td>-0.1139</td>\n",
       "      <td>0.5296</td>\n",
       "      <td>0</td>\n",
       "      <td>0</td>\n",
       "      <td>0</td>\n",
       "      <td>0</td>\n",
       "      <td>0</td>\n",
       "      <td>0</td>\n",
       "      <td>2</td>\n",
       "    </tr>\n",
       "  </tbody>\n",
       "</table>\n",
       "<p>5 rows × 34 columns</p>\n",
       "</div>"
      ],
      "text/plain": [
       "        V1    V2      V3      V4   V5  V6  V7     V8   V9  V10  ...     V25  \\\n",
       "1936   249   277  325780  325796  273  54  22  35033  119  141  ... -0.4286   \n",
       "1937   144   175  340581  340598  287  44  24  34599  112  133  ... -0.4516   \n",
       "1938   145   174  386779  386794  292  40  22  37572  120  140  ... -0.4828   \n",
       "1939   137   170  422497  422528  419  97  47  52715  117  140  ... -0.0606   \n",
       "1940  1261  1281   87951   87967  103  26  22  11682  101  133  ... -0.2000   \n",
       "\n",
       "         V26     V27  V28  V29  V30  V31  V32  V33  Class  \n",
       "1936  0.0026  0.7254    0    0    0    0    0    0      2  \n",
       "1937 -0.0582  0.8173    0    0    0    0    0    0      2  \n",
       "1938  0.0052  0.7079    0    0    0    0    0    0      2  \n",
       "1939 -0.0171  0.9919    0    0    0    0    0    0      2  \n",
       "1940 -0.1139  0.5296    0    0    0    0    0    0      2  \n",
       "\n",
       "[5 rows x 34 columns]"
      ]
     },
     "execution_count": 48,
     "metadata": {},
     "output_type": "execute_result"
    }
   ],
   "source": [
    "df.tail()"
   ]
  },
  {
   "cell_type": "code",
   "execution_count": 49,
   "metadata": {},
   "outputs": [
    {
     "data": {
      "text/plain": [
       "Index(['V1', 'V2', 'V3', 'V4', 'V5', 'V6', 'V7', 'V8', 'V9', 'V10', 'V11',\n",
       "       'V12', 'V13', 'V14', 'V15', 'V16', 'V17', 'V18', 'V19', 'V20', 'V21',\n",
       "       'V22', 'V23', 'V24', 'V25', 'V26', 'V27', 'V28', 'V29', 'V30', 'V31',\n",
       "       'V32', 'V33', 'Class'],\n",
       "      dtype='object')"
      ]
     },
     "execution_count": 49,
     "metadata": {},
     "output_type": "execute_result"
    }
   ],
   "source": [
    "df.columns"
   ]
  },
  {
   "cell_type": "code",
   "execution_count": 50,
   "metadata": {},
   "outputs": [],
   "source": [
    "y = df.Class"
   ]
  },
  {
   "cell_type": "code",
   "execution_count": 51,
   "metadata": {},
   "outputs": [],
   "source": [
    "features = ['V1', 'V2', 'V3', 'V4', 'V5', 'V6', 'V7', 'V8', 'V9', 'V10', 'V11',\n",
    "       'V12', 'V13', 'V14', 'V15', 'V16', 'V17', 'V18', 'V19', 'V20', 'V21',\n",
    "       'V22', 'V23', 'V24', 'V25', 'V26', 'V27', 'V28', 'V29', 'V30', 'V31',\n",
    "       'V32', 'V33']\n",
    "X = df[features]"
   ]
  },
  {
   "cell_type": "code",
   "execution_count": 52,
   "metadata": {},
   "outputs": [],
   "source": [
    "assignment_model = DecisionTreeRegressor(random_state=1)"
   ]
  },
  {
   "cell_type": "code",
   "execution_count": 53,
   "metadata": {},
   "outputs": [
    {
     "data": {
      "text/plain": [
       "DecisionTreeRegressor(random_state=1)"
      ]
     },
     "execution_count": 53,
     "metadata": {},
     "output_type": "execute_result"
    }
   ],
   "source": [
    "assignment_model.fit(X, y)"
   ]
  },
  {
   "cell_type": "code",
   "execution_count": 54,
   "metadata": {},
   "outputs": [
    {
     "name": "stdout",
     "output_type": "stream",
     "text": [
      "     V1    V2       V3       V4    V5  V6   V7      V8  V9  V10  ...     V24  \\\n",
      "0    42    50   270900   270944   267  17   44   24220  76  108  ...  1.6435   \n",
      "1   645   651  2538079  2538108   108  10   30   11397  84  123  ...  1.4624   \n",
      "2   829   835  1553913  1553931    71   8   19    7972  99  125  ...  1.2553   \n",
      "3   853   860   369370   369415   176  13   45   18996  99  126  ...  1.6532   \n",
      "4  1289  1306   498078   498335  2409  60  260  246930  37  126  ...  2.4099   \n",
      "\n",
      "      V25     V26     V27  V28  V29  V30  V31  V32  V33  \n",
      "0  0.8182 -0.2913  0.5822    1    0    0    0    0    0  \n",
      "1  0.7931 -0.1756  0.2984    1    0    0    0    0    0  \n",
      "2  0.6667 -0.1228  0.2150    1    0    0    0    0    0  \n",
      "3  0.8444 -0.1568  0.5212    1    0    0    0    0    0  \n",
      "4  0.9338 -0.1992  1.0000    1    0    0    0    0    0  \n",
      "\n",
      "[5 rows x 33 columns]\n"
     ]
    }
   ],
   "source": [
    "print(X.head())"
   ]
  },
  {
   "cell_type": "code",
   "execution_count": 55,
   "metadata": {},
   "outputs": [
    {
     "name": "stdout",
     "output_type": "stream",
     "text": [
      "1936    2\n",
      "1937    2\n",
      "1938    2\n",
      "1939    2\n",
      "1940    2\n",
      "Name: Class, dtype: int64\n"
     ]
    }
   ],
   "source": [
    "print(y.tail())"
   ]
  },
  {
   "cell_type": "code",
   "execution_count": 56,
   "metadata": {},
   "outputs": [
    {
     "data": {
      "text/plain": [
       "array([1., 1., 1., 1., 1.])"
      ]
     },
     "execution_count": 56,
     "metadata": {},
     "output_type": "execute_result"
    }
   ],
   "source": [
    "assignment_model.predict(X.head())"
   ]
  },
  {
   "cell_type": "code",
   "execution_count": 57,
   "metadata": {},
   "outputs": [],
   "source": [
    "# Split data into training set and testing set\n",
    "train_X, val_X, train_y, val_y = train_test_split(X, y, random_state = 0)"
   ]
  },
  {
   "cell_type": "code",
   "execution_count": 58,
   "metadata": {},
   "outputs": [
    {
     "data": {
      "text/plain": [
       "1638    2\n",
       "667     1\n",
       "981     1\n",
       "1038    1\n",
       "452     1\n",
       "Name: Class, dtype: int64"
      ]
     },
     "execution_count": 58,
     "metadata": {},
     "output_type": "execute_result"
    }
   ],
   "source": [
    "val_y.tail()"
   ]
  },
  {
   "cell_type": "code",
   "execution_count": 59,
   "metadata": {},
   "outputs": [
    {
     "data": {
      "text/plain": [
       "1747    2\n",
       "1033    1\n",
       "1383    2\n",
       "1731    2\n",
       "763     1\n",
       "835     1\n",
       "1216    1\n",
       "1653    2\n",
       "559     1\n",
       "684     1\n",
       "Name: Class, dtype: int64"
      ]
     },
     "execution_count": 59,
     "metadata": {},
     "output_type": "execute_result"
    }
   ],
   "source": [
    "train_y.tail(10)"
   ]
  },
  {
   "cell_type": "code",
   "execution_count": 60,
   "metadata": {},
   "outputs": [
    {
     "data": {
      "text/plain": [
       "DecisionTreeRegressor(random_state=1)"
      ]
     },
     "execution_count": 60,
     "metadata": {},
     "output_type": "execute_result"
    }
   ],
   "source": [
    "# Fit the data\n",
    "assignment_model.fit(train_X, train_y)"
   ]
  },
  {
   "cell_type": "code",
   "execution_count": 61,
   "metadata": {},
   "outputs": [],
   "source": [
    "val_predictions = assignment_model.predict(val_X)"
   ]
  },
  {
   "cell_type": "code",
   "execution_count": 62,
   "metadata": {},
   "outputs": [
    {
     "data": {
      "text/plain": [
       "Index(['V1', 'V2', 'V3', 'V4', 'V5', 'V6', 'V7', 'V8', 'V9', 'V10', 'V11',\n",
       "       'V12', 'V13', 'V14', 'V15', 'V16', 'V17', 'V18', 'V19', 'V20', 'V21',\n",
       "       'V22', 'V23', 'V24', 'V25', 'V26', 'V27', 'V28', 'V29', 'V30', 'V31',\n",
       "       'V32', 'V33'],\n",
       "      dtype='object')"
      ]
     },
     "execution_count": 62,
     "metadata": {},
     "output_type": "execute_result"
    }
   ],
   "source": [
    "val_X.columns"
   ]
  },
  {
   "cell_type": "code",
   "execution_count": 63,
   "metadata": {},
   "outputs": [
    {
     "name": "stdout",
     "output_type": "stream",
     "text": [
      "[1. 1. 1. 1. 1. 1. 1. 2. 1. 2. 1. 2. 2. 2. 1. 2. 1. 1. 1. 1. 1. 1. 2. 2.\n",
      " 2. 1. 1. 1. 2. 2. 1. 2. 1. 1. 1. 2. 1. 1. 2. 1. 2. 1. 1. 1. 2. 2. 1. 2.\n",
      " 1. 2. 1. 1. 1. 1. 1. 1. 1. 2. 2. 1. 1. 1. 2. 1. 1. 1. 1. 1. 1. 1. 1. 2.\n",
      " 1. 1. 2. 1. 1. 1. 2. 1. 1. 1. 1. 1. 1. 1. 1. 1. 1. 1. 2. 1. 2. 1. 1. 2.\n",
      " 1. 1. 2. 1. 2. 1. 1. 1. 1. 2. 1. 1. 2. 2. 1. 1. 1. 1. 1. 1. 1. 1. 2. 1.\n",
      " 1. 2. 2. 1. 1. 1. 1. 2. 2. 1. 1. 1. 2. 1. 1. 1. 1. 2. 2. 2. 2. 2. 1. 1.\n",
      " 2. 1. 1. 1. 2. 2. 2. 1. 1. 2. 2. 1. 1. 1. 2. 2. 2. 2. 2. 1. 2. 1. 1. 2.\n",
      " 1. 1. 2. 1. 1. 2. 1. 1. 2. 1. 1. 1. 1. 1. 1. 1. 1. 2. 1. 2. 1. 1. 1. 1.\n",
      " 2. 2. 1. 1. 1. 1. 1. 2. 1. 1. 2. 1. 2. 1. 1. 1. 1. 2. 1. 1. 1. 2. 1. 1.\n",
      " 1. 1. 1. 2. 2. 2. 1. 1. 1. 2. 2. 1. 1. 2. 1. 1. 2. 2. 2. 2. 1. 1. 1. 1.\n",
      " 2. 2. 1. 1. 1. 1. 1. 1. 1. 1. 2. 1. 1. 1. 1. 2. 1. 1. 1. 1. 1. 1. 2. 2.\n",
      " 1. 1. 2. 1. 1. 1. 1. 1. 1. 1. 2. 1. 2. 2. 2. 1. 1. 2. 1. 1. 1. 1. 1. 1.\n",
      " 1. 2. 2. 2. 1. 1. 1. 2. 2. 1. 1. 1. 1. 1. 1. 1. 2. 1. 1. 1. 2. 2. 1. 2.\n",
      " 2. 2. 1. 1. 2. 1. 1. 2. 1. 1. 1. 2. 1. 2. 1. 1. 1. 2. 1. 1. 1. 1. 2. 1.\n",
      " 2. 1. 2. 1. 1. 1. 1. 1. 2. 1. 2. 1. 2. 1. 1. 2. 2. 1. 1. 1. 1. 2. 2. 2.\n",
      " 1. 1. 1. 1. 1. 1. 1. 1. 2. 1. 1. 2. 2. 1. 2. 1. 1. 1. 2. 2. 2. 1. 1. 1.\n",
      " 1. 2. 2. 2. 2. 1. 1. 1. 1. 2. 2. 2. 1. 2. 1. 2. 1. 1. 2. 1. 2. 1. 1. 2.\n",
      " 1. 1. 1. 2. 1. 2. 1. 1. 1. 2. 1. 1. 2. 1. 1. 2. 2. 2. 1. 2. 1. 2. 2. 1.\n",
      " 2. 1. 1. 1. 1. 1. 1. 1. 2. 2. 2. 1. 2. 1. 1. 1. 1. 2. 2. 1. 1. 1. 1. 2.\n",
      " 1. 2. 1. 1. 2. 1. 1. 1. 1. 1. 2. 1. 1. 1. 1. 1. 1. 1. 1. 2. 1. 1. 1. 2.\n",
      " 2. 2. 1. 1. 1. 1.]\n"
     ]
    }
   ],
   "source": [
    "print(val_predictions)"
   ]
  },
  {
   "cell_type": "code",
   "execution_count": 64,
   "metadata": {},
   "outputs": [
    {
     "name": "stdout",
     "output_type": "stream",
     "text": [
      "768     1\n",
      "704     1\n",
      "726     1\n",
      "215     1\n",
      "1158    1\n",
      "Name: Class, dtype: int64\n"
     ]
    }
   ],
   "source": [
    "print(val_y.head())"
   ]
  },
  {
   "cell_type": "code",
   "execution_count": 65,
   "metadata": {},
   "outputs": [
    {
     "data": {
      "text/plain": [
       "0.0"
      ]
     },
     "execution_count": 65,
     "metadata": {},
     "output_type": "execute_result"
    }
   ],
   "source": [
    "mean_absolute_error(val_y, val_predictions)"
   ]
  },
  {
   "cell_type": "code",
   "execution_count": 66,
   "metadata": {},
   "outputs": [
    {
     "data": {
      "text/plain": [
       "array([0.        , 0.        , 0.        , 0.        , 0.        ,\n",
       "       0.        , 0.        , 0.        , 0.        , 0.        ,\n",
       "       0.        , 0.        , 0.        , 0.        , 0.        ,\n",
       "       0.        , 0.        , 0.        , 0.        , 0.        ,\n",
       "       0.        , 0.        , 0.        , 0.        , 0.        ,\n",
       "       0.        , 0.        , 0.20330514, 0.17627374, 0.23026248,\n",
       "       0.13051497, 0.11963264, 0.14001103])"
      ]
     },
     "execution_count": 66,
     "metadata": {},
     "output_type": "execute_result"
    }
   ],
   "source": [
    "assignment_model.feature_importances_"
   ]
  },
  {
   "cell_type": "code",
   "execution_count": 32,
   "metadata": {},
   "outputs": [
    {
     "name": "stdout",
     "output_type": "stream",
     "text": [
      "768     1\n",
      "704     1\n",
      "726     1\n",
      "215     1\n",
      "1158    1\n",
      "       ..\n",
      "1638    2\n",
      "667     1\n",
      "981     1\n",
      "1038    1\n",
      "452     1\n",
      "Name: Class, Length: 486, dtype: int64\n"
     ]
    }
   ],
   "source": [
    "print(val_y)"
   ]
  },
  {
   "cell_type": "code",
   "execution_count": 33,
   "metadata": {},
   "outputs": [
    {
     "data": {
      "text/html": [
       "<div>\n",
       "<style scoped>\n",
       "    .dataframe tbody tr th:only-of-type {\n",
       "        vertical-align: middle;\n",
       "    }\n",
       "\n",
       "    .dataframe tbody tr th {\n",
       "        vertical-align: top;\n",
       "    }\n",
       "\n",
       "    .dataframe thead th {\n",
       "        text-align: right;\n",
       "    }\n",
       "</style>\n",
       "<table border=\"1\" class=\"dataframe\">\n",
       "  <thead>\n",
       "    <tr style=\"text-align: right;\">\n",
       "      <th></th>\n",
       "      <th>V1</th>\n",
       "      <th>V2</th>\n",
       "      <th>V3</th>\n",
       "      <th>V4</th>\n",
       "      <th>V5</th>\n",
       "      <th>V6</th>\n",
       "      <th>V7</th>\n",
       "      <th>V8</th>\n",
       "      <th>V9</th>\n",
       "      <th>V10</th>\n",
       "      <th>...</th>\n",
       "      <th>V24</th>\n",
       "      <th>V25</th>\n",
       "      <th>V26</th>\n",
       "      <th>V27</th>\n",
       "      <th>V28</th>\n",
       "      <th>V29</th>\n",
       "      <th>V30</th>\n",
       "      <th>V31</th>\n",
       "      <th>V32</th>\n",
       "      <th>V33</th>\n",
       "    </tr>\n",
       "  </thead>\n",
       "  <tbody>\n",
       "    <tr>\n",
       "      <th>768</th>\n",
       "      <td>805</td>\n",
       "      <td>813</td>\n",
       "      <td>273908</td>\n",
       "      <td>273912</td>\n",
       "      <td>16</td>\n",
       "      <td>8</td>\n",
       "      <td>4</td>\n",
       "      <td>2121</td>\n",
       "      <td>114</td>\n",
       "      <td>148</td>\n",
       "      <td>...</td>\n",
       "      <td>0.6021</td>\n",
       "      <td>-0.5000</td>\n",
       "      <td>0.0356</td>\n",
       "      <td>0.1417</td>\n",
       "      <td>0</td>\n",
       "      <td>0</td>\n",
       "      <td>0</td>\n",
       "      <td>1</td>\n",
       "      <td>0</td>\n",
       "      <td>0</td>\n",
       "    </tr>\n",
       "    <tr>\n",
       "      <th>704</th>\n",
       "      <td>41</td>\n",
       "      <td>209</td>\n",
       "      <td>4401486</td>\n",
       "      <td>4401544</td>\n",
       "      <td>5533</td>\n",
       "      <td>288</td>\n",
       "      <td>155</td>\n",
       "      <td>584291</td>\n",
       "      <td>43</td>\n",
       "      <td>126</td>\n",
       "      <td>...</td>\n",
       "      <td>1.7634</td>\n",
       "      <td>-0.6548</td>\n",
       "      <td>-0.1750</td>\n",
       "      <td>1.0000</td>\n",
       "      <td>0</td>\n",
       "      <td>0</td>\n",
       "      <td>1</td>\n",
       "      <td>0</td>\n",
       "      <td>0</td>\n",
       "      <td>0</td>\n",
       "    </tr>\n",
       "    <tr>\n",
       "      <th>726</th>\n",
       "      <td>1</td>\n",
       "      <td>250</td>\n",
       "      <td>115072</td>\n",
       "      <td>115195</td>\n",
       "      <td>15650</td>\n",
       "      <td>943</td>\n",
       "      <td>539</td>\n",
       "      <td>1732196</td>\n",
       "      <td>23</td>\n",
       "      <td>140</td>\n",
       "      <td>...</td>\n",
       "      <td>2.0899</td>\n",
       "      <td>-0.5060</td>\n",
       "      <td>-0.1353</td>\n",
       "      <td>1.0000</td>\n",
       "      <td>0</td>\n",
       "      <td>0</td>\n",
       "      <td>1</td>\n",
       "      <td>0</td>\n",
       "      <td>0</td>\n",
       "      <td>0</td>\n",
       "    </tr>\n",
       "    <tr>\n",
       "      <th>215</th>\n",
       "      <td>244</td>\n",
       "      <td>275</td>\n",
       "      <td>923170</td>\n",
       "      <td>923211</td>\n",
       "      <td>709</td>\n",
       "      <td>84</td>\n",
       "      <td>55</td>\n",
       "      <td>83627</td>\n",
       "      <td>105</td>\n",
       "      <td>132</td>\n",
       "      <td>...</td>\n",
       "      <td>1.6128</td>\n",
       "      <td>0.2439</td>\n",
       "      <td>-0.0785</td>\n",
       "      <td>0.9984</td>\n",
       "      <td>0</td>\n",
       "      <td>1</td>\n",
       "      <td>0</td>\n",
       "      <td>0</td>\n",
       "      <td>0</td>\n",
       "      <td>0</td>\n",
       "    </tr>\n",
       "    <tr>\n",
       "      <th>1158</th>\n",
       "      <td>95</td>\n",
       "      <td>127</td>\n",
       "      <td>961065</td>\n",
       "      <td>961092</td>\n",
       "      <td>551</td>\n",
       "      <td>44</td>\n",
       "      <td>27</td>\n",
       "      <td>53142</td>\n",
       "      <td>56</td>\n",
       "      <td>128</td>\n",
       "      <td>...</td>\n",
       "      <td>1.4314</td>\n",
       "      <td>-0.1563</td>\n",
       "      <td>-0.2465</td>\n",
       "      <td>0.9769</td>\n",
       "      <td>0</td>\n",
       "      <td>0</td>\n",
       "      <td>0</td>\n",
       "      <td>0</td>\n",
       "      <td>0</td>\n",
       "      <td>1</td>\n",
       "    </tr>\n",
       "  </tbody>\n",
       "</table>\n",
       "<p>5 rows × 33 columns</p>\n",
       "</div>"
      ],
      "text/plain": [
       "       V1   V2       V3       V4     V5   V6   V7       V8   V9  V10  ...  \\\n",
       "768   805  813   273908   273912     16    8    4     2121  114  148  ...   \n",
       "704    41  209  4401486  4401544   5533  288  155   584291   43  126  ...   \n",
       "726     1  250   115072   115195  15650  943  539  1732196   23  140  ...   \n",
       "215   244  275   923170   923211    709   84   55    83627  105  132  ...   \n",
       "1158   95  127   961065   961092    551   44   27    53142   56  128  ...   \n",
       "\n",
       "         V24     V25     V26     V27  V28  V29  V30  V31  V32  V33  \n",
       "768   0.6021 -0.5000  0.0356  0.1417    0    0    0    1    0    0  \n",
       "704   1.7634 -0.6548 -0.1750  1.0000    0    0    1    0    0    0  \n",
       "726   2.0899 -0.5060 -0.1353  1.0000    0    0    1    0    0    0  \n",
       "215   1.6128  0.2439 -0.0785  0.9984    0    1    0    0    0    0  \n",
       "1158  1.4314 -0.1563 -0.2465  0.9769    0    0    0    0    0    1  \n",
       "\n",
       "[5 rows x 33 columns]"
      ]
     },
     "execution_count": 33,
     "metadata": {},
     "output_type": "execute_result"
    }
   ],
   "source": [
    "val_X.head()"
   ]
  },
  {
   "cell_type": "code",
   "execution_count": 34,
   "metadata": {},
   "outputs": [],
   "source": [
    "# Less number of features\n",
    "features = ['V1', 'V2', 'V3', 'V4']"
   ]
  },
  {
   "cell_type": "code",
   "execution_count": 35,
   "metadata": {},
   "outputs": [],
   "source": [
    "X = df[features]"
   ]
  },
  {
   "cell_type": "code",
   "execution_count": 36,
   "metadata": {},
   "outputs": [
    {
     "data": {
      "text/html": [
       "<div>\n",
       "<style scoped>\n",
       "    .dataframe tbody tr th:only-of-type {\n",
       "        vertical-align: middle;\n",
       "    }\n",
       "\n",
       "    .dataframe tbody tr th {\n",
       "        vertical-align: top;\n",
       "    }\n",
       "\n",
       "    .dataframe thead th {\n",
       "        text-align: right;\n",
       "    }\n",
       "</style>\n",
       "<table border=\"1\" class=\"dataframe\">\n",
       "  <thead>\n",
       "    <tr style=\"text-align: right;\">\n",
       "      <th></th>\n",
       "      <th>V1</th>\n",
       "      <th>V2</th>\n",
       "      <th>V3</th>\n",
       "      <th>V4</th>\n",
       "    </tr>\n",
       "  </thead>\n",
       "  <tbody>\n",
       "    <tr>\n",
       "      <th>0</th>\n",
       "      <td>42</td>\n",
       "      <td>50</td>\n",
       "      <td>270900</td>\n",
       "      <td>270944</td>\n",
       "    </tr>\n",
       "    <tr>\n",
       "      <th>1</th>\n",
       "      <td>645</td>\n",
       "      <td>651</td>\n",
       "      <td>2538079</td>\n",
       "      <td>2538108</td>\n",
       "    </tr>\n",
       "    <tr>\n",
       "      <th>2</th>\n",
       "      <td>829</td>\n",
       "      <td>835</td>\n",
       "      <td>1553913</td>\n",
       "      <td>1553931</td>\n",
       "    </tr>\n",
       "    <tr>\n",
       "      <th>3</th>\n",
       "      <td>853</td>\n",
       "      <td>860</td>\n",
       "      <td>369370</td>\n",
       "      <td>369415</td>\n",
       "    </tr>\n",
       "    <tr>\n",
       "      <th>4</th>\n",
       "      <td>1289</td>\n",
       "      <td>1306</td>\n",
       "      <td>498078</td>\n",
       "      <td>498335</td>\n",
       "    </tr>\n",
       "  </tbody>\n",
       "</table>\n",
       "</div>"
      ],
      "text/plain": [
       "     V1    V2       V3       V4\n",
       "0    42    50   270900   270944\n",
       "1   645   651  2538079  2538108\n",
       "2   829   835  1553913  1553931\n",
       "3   853   860   369370   369415\n",
       "4  1289  1306   498078   498335"
      ]
     },
     "execution_count": 36,
     "metadata": {},
     "output_type": "execute_result"
    }
   ],
   "source": [
    "X.head()"
   ]
  },
  {
   "cell_type": "code",
   "execution_count": 37,
   "metadata": {},
   "outputs": [],
   "source": [
    "train_X, val_X, train_y, val_y = train_test_split(X, y, random_state = 0)"
   ]
  },
  {
   "cell_type": "code",
   "execution_count": 38,
   "metadata": {},
   "outputs": [
    {
     "data": {
      "text/plain": [
       "DecisionTreeRegressor(random_state=1)"
      ]
     },
     "execution_count": 38,
     "metadata": {},
     "output_type": "execute_result"
    }
   ],
   "source": [
    "assignment_model.fit(train_X, train_y)"
   ]
  },
  {
   "cell_type": "code",
   "execution_count": 39,
   "metadata": {},
   "outputs": [],
   "source": [
    "val_predictions = assignment_model.predict(val_X)"
   ]
  },
  {
   "cell_type": "code",
   "execution_count": 40,
   "metadata": {},
   "outputs": [],
   "source": [
    "dat = [1343,1352,106512,106519,52,9,7,5049,87,109,1366,0,1,100,0.0205,0.1746,0.7778,0.0066,1,1,0,1.716,0.9542,0.8451,-0.2222,-0.2414,0.1687,1,0,0,0,0,0]"
   ]
  },
  {
   "cell_type": "code",
   "execution_count": 41,
   "metadata": {},
   "outputs": [
    {
     "data": {
      "text/html": [
       "<div>\n",
       "<style scoped>\n",
       "    .dataframe tbody tr th:only-of-type {\n",
       "        vertical-align: middle;\n",
       "    }\n",
       "\n",
       "    .dataframe tbody tr th {\n",
       "        vertical-align: top;\n",
       "    }\n",
       "\n",
       "    .dataframe thead th {\n",
       "        text-align: right;\n",
       "    }\n",
       "</style>\n",
       "<table border=\"1\" class=\"dataframe\">\n",
       "  <thead>\n",
       "    <tr style=\"text-align: right;\">\n",
       "      <th></th>\n",
       "      <th>V1</th>\n",
       "      <th>V2</th>\n",
       "      <th>V3</th>\n",
       "      <th>V4</th>\n",
       "    </tr>\n",
       "  </thead>\n",
       "  <tbody>\n",
       "    <tr>\n",
       "      <th>768</th>\n",
       "      <td>805</td>\n",
       "      <td>813</td>\n",
       "      <td>273908</td>\n",
       "      <td>273912</td>\n",
       "    </tr>\n",
       "    <tr>\n",
       "      <th>704</th>\n",
       "      <td>41</td>\n",
       "      <td>209</td>\n",
       "      <td>4401486</td>\n",
       "      <td>4401544</td>\n",
       "    </tr>\n",
       "    <tr>\n",
       "      <th>726</th>\n",
       "      <td>1</td>\n",
       "      <td>250</td>\n",
       "      <td>115072</td>\n",
       "      <td>115195</td>\n",
       "    </tr>\n",
       "    <tr>\n",
       "      <th>215</th>\n",
       "      <td>244</td>\n",
       "      <td>275</td>\n",
       "      <td>923170</td>\n",
       "      <td>923211</td>\n",
       "    </tr>\n",
       "    <tr>\n",
       "      <th>1158</th>\n",
       "      <td>95</td>\n",
       "      <td>127</td>\n",
       "      <td>961065</td>\n",
       "      <td>961092</td>\n",
       "    </tr>\n",
       "    <tr>\n",
       "      <th>...</th>\n",
       "      <td>...</td>\n",
       "      <td>...</td>\n",
       "      <td>...</td>\n",
       "      <td>...</td>\n",
       "    </tr>\n",
       "    <tr>\n",
       "      <th>1638</th>\n",
       "      <td>1163</td>\n",
       "      <td>1171</td>\n",
       "      <td>2016193</td>\n",
       "      <td>2016200</td>\n",
       "    </tr>\n",
       "    <tr>\n",
       "      <th>667</th>\n",
       "      <td>41</td>\n",
       "      <td>207</td>\n",
       "      <td>2336275</td>\n",
       "      <td>2336344</td>\n",
       "    </tr>\n",
       "    <tr>\n",
       "      <th>981</th>\n",
       "      <td>1049</td>\n",
       "      <td>1058</td>\n",
       "      <td>3577116</td>\n",
       "      <td>3577127</td>\n",
       "    </tr>\n",
       "    <tr>\n",
       "      <th>1038</th>\n",
       "      <td>1474</td>\n",
       "      <td>1489</td>\n",
       "      <td>1248833</td>\n",
       "      <td>1248844</td>\n",
       "    </tr>\n",
       "    <tr>\n",
       "      <th>452</th>\n",
       "      <td>39</td>\n",
       "      <td>66</td>\n",
       "      <td>1384526</td>\n",
       "      <td>1384579</td>\n",
       "    </tr>\n",
       "  </tbody>\n",
       "</table>\n",
       "<p>486 rows × 4 columns</p>\n",
       "</div>"
      ],
      "text/plain": [
       "        V1    V2       V3       V4\n",
       "768    805   813   273908   273912\n",
       "704     41   209  4401486  4401544\n",
       "726      1   250   115072   115195\n",
       "215    244   275   923170   923211\n",
       "1158    95   127   961065   961092\n",
       "...    ...   ...      ...      ...\n",
       "1638  1163  1171  2016193  2016200\n",
       "667     41   207  2336275  2336344\n",
       "981   1049  1058  3577116  3577127\n",
       "1038  1474  1489  1248833  1248844\n",
       "452     39    66  1384526  1384579\n",
       "\n",
       "[486 rows x 4 columns]"
      ]
     },
     "execution_count": 41,
     "metadata": {},
     "output_type": "execute_result"
    }
   ],
   "source": [
    "val_X"
   ]
  },
  {
   "cell_type": "code",
   "execution_count": 42,
   "metadata": {},
   "outputs": [
    {
     "data": {
      "text/plain": [
       "0.31893004115226337"
      ]
     },
     "execution_count": 42,
     "metadata": {},
     "output_type": "execute_result"
    }
   ],
   "source": [
    "mean_absolute_error(val_y, val_predictions)"
   ]
  },
  {
   "cell_type": "code",
   "execution_count": 36,
   "metadata": {},
   "outputs": [],
   "source": [
    "def area(l, b):\n",
    "    return l * b\n",
    "\n",
    "rect_area = area(2, 3)"
   ]
  },
  {
   "cell_type": "code",
   "execution_count": 37,
   "metadata": {},
   "outputs": [
    {
     "name": "stdout",
     "output_type": "stream",
     "text": [
      "6\n"
     ]
    }
   ],
   "source": [
    "print(rect_area)"
   ]
  },
  {
   "cell_type": "code",
   "execution_count": 38,
   "metadata": {},
   "outputs": [
    {
     "name": "stdout",
     "output_type": "stream",
     "text": [
      "total  0\n",
      "15\n"
     ]
    }
   ],
   "source": [
    "array = [1, 2, 3, 4, 5]\n",
    "\n",
    "total = 0\n",
    "\n",
    "print(\"total \", total)\n",
    "\n",
    "for val in array:\n",
    "    total = total + val\n",
    "    # print(\"val \", val, \" total \", total )\n",
    "\n",
    "print(total)"
   ]
  },
  {
   "cell_type": "code",
   "execution_count": 39,
   "metadata": {},
   "outputs": [
    {
     "name": "stdout",
     "output_type": "stream",
     "text": [
      "9\n",
      "3\n"
     ]
    }
   ],
   "source": [
    "def total_of_array(ary):\n",
    "    total = 0\n",
    "    for val in ary:\n",
    "        total = total + val\n",
    "    return total\n",
    "\n",
    "print(total_of_array([1, 3, 5]))\n",
    "print(total_of_array([1, 1, 1]))"
   ]
  },
  {
   "cell_type": "code",
   "execution_count": 40,
   "metadata": {},
   "outputs": [
    {
     "name": "stdout",
     "output_type": "stream",
     "text": [
      "6\n"
     ]
    }
   ],
   "source": [
    "print(total_of_array([2, 2, 2]))"
   ]
  },
  {
   "cell_type": "code",
   "execution_count": null,
   "metadata": {},
   "outputs": [],
   "source": []
  }
 ],
 "metadata": {
  "kernelspec": {
   "display_name": "Python 3 (ipykernel)",
   "language": "python",
   "name": "python3"
  },
  "language_info": {
   "codemirror_mode": {
    "name": "ipython",
    "version": 3
   },
   "file_extension": ".py",
   "mimetype": "text/x-python",
   "name": "python",
   "nbconvert_exporter": "python",
   "pygments_lexer": "ipython3",
   "version": "3.8.13"
  }
 },
 "nbformat": 4,
 "nbformat_minor": 4
}
