{
 "cells": [
  {
   "cell_type": "code",
   "execution_count": 32,
   "id": "15bb06e2-65ea-4e01-9904-b7dc84bf0120",
   "metadata": {},
   "outputs": [],
   "source": [
    "from sklearn.feature_selection import VarianceThreshold\n",
    "from sklearn.model_selection import train_test_split\n",
    "from sklearn.metrics import mean_absolute_error\n",
    "from sklearn.tree import DecisionTreeRegressor\n",
    "\n",
    "import pandas as pd\n",
    "import matplotlib.pyplot as plt\n",
    "import seaborn as sns"
   ]
  },
  {
   "cell_type": "code",
   "execution_count": 33,
   "id": "b30674e5-64db-49fc-b809-bca20469aa12",
   "metadata": {},
   "outputs": [],
   "source": [
    "data = \"./data/Assignment_PA.csv\""
   ]
  },
  {
   "cell_type": "code",
   "execution_count": 34,
   "id": "47ad7aa5-69cd-4379-87ff-0de3c6d4db64",
   "metadata": {},
   "outputs": [
    {
     "data": {
      "text/html": [
       "<div>\n",
       "<style scoped>\n",
       "    .dataframe tbody tr th:only-of-type {\n",
       "        vertical-align: middle;\n",
       "    }\n",
       "\n",
       "    .dataframe tbody tr th {\n",
       "        vertical-align: top;\n",
       "    }\n",
       "\n",
       "    .dataframe thead th {\n",
       "        text-align: right;\n",
       "    }\n",
       "</style>\n",
       "<table border=\"1\" class=\"dataframe\">\n",
       "  <thead>\n",
       "    <tr style=\"text-align: right;\">\n",
       "      <th></th>\n",
       "      <th>V1</th>\n",
       "      <th>V2</th>\n",
       "      <th>V3</th>\n",
       "      <th>V4</th>\n",
       "      <th>V5</th>\n",
       "      <th>V6</th>\n",
       "      <th>V7</th>\n",
       "      <th>V8</th>\n",
       "      <th>V9</th>\n",
       "      <th>V10</th>\n",
       "      <th>...</th>\n",
       "      <th>V25</th>\n",
       "      <th>V26</th>\n",
       "      <th>V27</th>\n",
       "      <th>V28</th>\n",
       "      <th>V29</th>\n",
       "      <th>V30</th>\n",
       "      <th>V31</th>\n",
       "      <th>V32</th>\n",
       "      <th>V33</th>\n",
       "      <th>Class</th>\n",
       "    </tr>\n",
       "  </thead>\n",
       "  <tbody>\n",
       "    <tr>\n",
       "      <th>0</th>\n",
       "      <td>42</td>\n",
       "      <td>50</td>\n",
       "      <td>270900</td>\n",
       "      <td>270944</td>\n",
       "      <td>267</td>\n",
       "      <td>17</td>\n",
       "      <td>44</td>\n",
       "      <td>24220</td>\n",
       "      <td>76</td>\n",
       "      <td>108</td>\n",
       "      <td>...</td>\n",
       "      <td>0.8182</td>\n",
       "      <td>-0.2913</td>\n",
       "      <td>0.5822</td>\n",
       "      <td>1</td>\n",
       "      <td>0</td>\n",
       "      <td>0</td>\n",
       "      <td>0</td>\n",
       "      <td>0</td>\n",
       "      <td>0</td>\n",
       "      <td>1</td>\n",
       "    </tr>\n",
       "    <tr>\n",
       "      <th>1</th>\n",
       "      <td>645</td>\n",
       "      <td>651</td>\n",
       "      <td>2538079</td>\n",
       "      <td>2538108</td>\n",
       "      <td>108</td>\n",
       "      <td>10</td>\n",
       "      <td>30</td>\n",
       "      <td>11397</td>\n",
       "      <td>84</td>\n",
       "      <td>123</td>\n",
       "      <td>...</td>\n",
       "      <td>0.7931</td>\n",
       "      <td>-0.1756</td>\n",
       "      <td>0.2984</td>\n",
       "      <td>1</td>\n",
       "      <td>0</td>\n",
       "      <td>0</td>\n",
       "      <td>0</td>\n",
       "      <td>0</td>\n",
       "      <td>0</td>\n",
       "      <td>1</td>\n",
       "    </tr>\n",
       "    <tr>\n",
       "      <th>2</th>\n",
       "      <td>829</td>\n",
       "      <td>835</td>\n",
       "      <td>1553913</td>\n",
       "      <td>1553931</td>\n",
       "      <td>71</td>\n",
       "      <td>8</td>\n",
       "      <td>19</td>\n",
       "      <td>7972</td>\n",
       "      <td>99</td>\n",
       "      <td>125</td>\n",
       "      <td>...</td>\n",
       "      <td>0.6667</td>\n",
       "      <td>-0.1228</td>\n",
       "      <td>0.2150</td>\n",
       "      <td>1</td>\n",
       "      <td>0</td>\n",
       "      <td>0</td>\n",
       "      <td>0</td>\n",
       "      <td>0</td>\n",
       "      <td>0</td>\n",
       "      <td>1</td>\n",
       "    </tr>\n",
       "    <tr>\n",
       "      <th>3</th>\n",
       "      <td>853</td>\n",
       "      <td>860</td>\n",
       "      <td>369370</td>\n",
       "      <td>369415</td>\n",
       "      <td>176</td>\n",
       "      <td>13</td>\n",
       "      <td>45</td>\n",
       "      <td>18996</td>\n",
       "      <td>99</td>\n",
       "      <td>126</td>\n",
       "      <td>...</td>\n",
       "      <td>0.8444</td>\n",
       "      <td>-0.1568</td>\n",
       "      <td>0.5212</td>\n",
       "      <td>1</td>\n",
       "      <td>0</td>\n",
       "      <td>0</td>\n",
       "      <td>0</td>\n",
       "      <td>0</td>\n",
       "      <td>0</td>\n",
       "      <td>1</td>\n",
       "    </tr>\n",
       "    <tr>\n",
       "      <th>4</th>\n",
       "      <td>1289</td>\n",
       "      <td>1306</td>\n",
       "      <td>498078</td>\n",
       "      <td>498335</td>\n",
       "      <td>2409</td>\n",
       "      <td>60</td>\n",
       "      <td>260</td>\n",
       "      <td>246930</td>\n",
       "      <td>37</td>\n",
       "      <td>126</td>\n",
       "      <td>...</td>\n",
       "      <td>0.9338</td>\n",
       "      <td>-0.1992</td>\n",
       "      <td>1.0000</td>\n",
       "      <td>1</td>\n",
       "      <td>0</td>\n",
       "      <td>0</td>\n",
       "      <td>0</td>\n",
       "      <td>0</td>\n",
       "      <td>0</td>\n",
       "      <td>1</td>\n",
       "    </tr>\n",
       "  </tbody>\n",
       "</table>\n",
       "<p>5 rows × 34 columns</p>\n",
       "</div>"
      ],
      "text/plain": [
       "     V1    V2       V3       V4    V5  V6   V7      V8  V9  V10  ...     V25  \\\n",
       "0    42    50   270900   270944   267  17   44   24220  76  108  ...  0.8182   \n",
       "1   645   651  2538079  2538108   108  10   30   11397  84  123  ...  0.7931   \n",
       "2   829   835  1553913  1553931    71   8   19    7972  99  125  ...  0.6667   \n",
       "3   853   860   369370   369415   176  13   45   18996  99  126  ...  0.8444   \n",
       "4  1289  1306   498078   498335  2409  60  260  246930  37  126  ...  0.9338   \n",
       "\n",
       "      V26     V27  V28  V29  V30  V31  V32  V33  Class  \n",
       "0 -0.2913  0.5822    1    0    0    0    0    0      1  \n",
       "1 -0.1756  0.2984    1    0    0    0    0    0      1  \n",
       "2 -0.1228  0.2150    1    0    0    0    0    0      1  \n",
       "3 -0.1568  0.5212    1    0    0    0    0    0      1  \n",
       "4 -0.1992  1.0000    1    0    0    0    0    0      1  \n",
       "\n",
       "[5 rows x 34 columns]"
      ]
     },
     "execution_count": 34,
     "metadata": {},
     "output_type": "execute_result"
    }
   ],
   "source": [
    "df = pd.read_csv(data)\n",
    "df.head()"
   ]
  },
  {
   "cell_type": "code",
   "execution_count": 35,
   "id": "c7730d00-a099-4720-ad22-4df10b8b1961",
   "metadata": {},
   "outputs": [
    {
     "data": {
      "text/html": [
       "<div>\n",
       "<style scoped>\n",
       "    .dataframe tbody tr th:only-of-type {\n",
       "        vertical-align: middle;\n",
       "    }\n",
       "\n",
       "    .dataframe tbody tr th {\n",
       "        vertical-align: top;\n",
       "    }\n",
       "\n",
       "    .dataframe thead th {\n",
       "        text-align: right;\n",
       "    }\n",
       "</style>\n",
       "<table border=\"1\" class=\"dataframe\">\n",
       "  <thead>\n",
       "    <tr style=\"text-align: right;\">\n",
       "      <th></th>\n",
       "      <th>V1</th>\n",
       "      <th>V2</th>\n",
       "      <th>V3</th>\n",
       "      <th>V4</th>\n",
       "      <th>V5</th>\n",
       "      <th>V6</th>\n",
       "      <th>V7</th>\n",
       "      <th>V8</th>\n",
       "      <th>V9</th>\n",
       "      <th>V10</th>\n",
       "      <th>...</th>\n",
       "      <th>V24</th>\n",
       "      <th>V25</th>\n",
       "      <th>V26</th>\n",
       "      <th>V27</th>\n",
       "      <th>V28</th>\n",
       "      <th>V29</th>\n",
       "      <th>V30</th>\n",
       "      <th>V31</th>\n",
       "      <th>V32</th>\n",
       "      <th>V33</th>\n",
       "    </tr>\n",
       "  </thead>\n",
       "  <tbody>\n",
       "    <tr>\n",
       "      <th>0</th>\n",
       "      <td>42</td>\n",
       "      <td>50</td>\n",
       "      <td>270900</td>\n",
       "      <td>270944</td>\n",
       "      <td>267</td>\n",
       "      <td>17</td>\n",
       "      <td>44</td>\n",
       "      <td>24220</td>\n",
       "      <td>76</td>\n",
       "      <td>108</td>\n",
       "      <td>...</td>\n",
       "      <td>1.6435</td>\n",
       "      <td>0.8182</td>\n",
       "      <td>-0.2913</td>\n",
       "      <td>0.5822</td>\n",
       "      <td>1</td>\n",
       "      <td>0</td>\n",
       "      <td>0</td>\n",
       "      <td>0</td>\n",
       "      <td>0</td>\n",
       "      <td>0</td>\n",
       "    </tr>\n",
       "    <tr>\n",
       "      <th>1</th>\n",
       "      <td>645</td>\n",
       "      <td>651</td>\n",
       "      <td>2538079</td>\n",
       "      <td>2538108</td>\n",
       "      <td>108</td>\n",
       "      <td>10</td>\n",
       "      <td>30</td>\n",
       "      <td>11397</td>\n",
       "      <td>84</td>\n",
       "      <td>123</td>\n",
       "      <td>...</td>\n",
       "      <td>1.4624</td>\n",
       "      <td>0.7931</td>\n",
       "      <td>-0.1756</td>\n",
       "      <td>0.2984</td>\n",
       "      <td>1</td>\n",
       "      <td>0</td>\n",
       "      <td>0</td>\n",
       "      <td>0</td>\n",
       "      <td>0</td>\n",
       "      <td>0</td>\n",
       "    </tr>\n",
       "    <tr>\n",
       "      <th>2</th>\n",
       "      <td>829</td>\n",
       "      <td>835</td>\n",
       "      <td>1553913</td>\n",
       "      <td>1553931</td>\n",
       "      <td>71</td>\n",
       "      <td>8</td>\n",
       "      <td>19</td>\n",
       "      <td>7972</td>\n",
       "      <td>99</td>\n",
       "      <td>125</td>\n",
       "      <td>...</td>\n",
       "      <td>1.2553</td>\n",
       "      <td>0.6667</td>\n",
       "      <td>-0.1228</td>\n",
       "      <td>0.2150</td>\n",
       "      <td>1</td>\n",
       "      <td>0</td>\n",
       "      <td>0</td>\n",
       "      <td>0</td>\n",
       "      <td>0</td>\n",
       "      <td>0</td>\n",
       "    </tr>\n",
       "    <tr>\n",
       "      <th>3</th>\n",
       "      <td>853</td>\n",
       "      <td>860</td>\n",
       "      <td>369370</td>\n",
       "      <td>369415</td>\n",
       "      <td>176</td>\n",
       "      <td>13</td>\n",
       "      <td>45</td>\n",
       "      <td>18996</td>\n",
       "      <td>99</td>\n",
       "      <td>126</td>\n",
       "      <td>...</td>\n",
       "      <td>1.6532</td>\n",
       "      <td>0.8444</td>\n",
       "      <td>-0.1568</td>\n",
       "      <td>0.5212</td>\n",
       "      <td>1</td>\n",
       "      <td>0</td>\n",
       "      <td>0</td>\n",
       "      <td>0</td>\n",
       "      <td>0</td>\n",
       "      <td>0</td>\n",
       "    </tr>\n",
       "    <tr>\n",
       "      <th>4</th>\n",
       "      <td>1289</td>\n",
       "      <td>1306</td>\n",
       "      <td>498078</td>\n",
       "      <td>498335</td>\n",
       "      <td>2409</td>\n",
       "      <td>60</td>\n",
       "      <td>260</td>\n",
       "      <td>246930</td>\n",
       "      <td>37</td>\n",
       "      <td>126</td>\n",
       "      <td>...</td>\n",
       "      <td>2.4099</td>\n",
       "      <td>0.9338</td>\n",
       "      <td>-0.1992</td>\n",
       "      <td>1.0000</td>\n",
       "      <td>1</td>\n",
       "      <td>0</td>\n",
       "      <td>0</td>\n",
       "      <td>0</td>\n",
       "      <td>0</td>\n",
       "      <td>0</td>\n",
       "    </tr>\n",
       "  </tbody>\n",
       "</table>\n",
       "<p>5 rows × 33 columns</p>\n",
       "</div>"
      ],
      "text/plain": [
       "     V1    V2       V3       V4    V5  V6   V7      V8  V9  V10  ...     V24  \\\n",
       "0    42    50   270900   270944   267  17   44   24220  76  108  ...  1.6435   \n",
       "1   645   651  2538079  2538108   108  10   30   11397  84  123  ...  1.4624   \n",
       "2   829   835  1553913  1553931    71   8   19    7972  99  125  ...  1.2553   \n",
       "3   853   860   369370   369415   176  13   45   18996  99  126  ...  1.6532   \n",
       "4  1289  1306   498078   498335  2409  60  260  246930  37  126  ...  2.4099   \n",
       "\n",
       "      V25     V26     V27  V28  V29  V30  V31  V32  V33  \n",
       "0  0.8182 -0.2913  0.5822    1    0    0    0    0    0  \n",
       "1  0.7931 -0.1756  0.2984    1    0    0    0    0    0  \n",
       "2  0.6667 -0.1228  0.2150    1    0    0    0    0    0  \n",
       "3  0.8444 -0.1568  0.5212    1    0    0    0    0    0  \n",
       "4  0.9338 -0.1992  1.0000    1    0    0    0    0    0  \n",
       "\n",
       "[5 rows x 33 columns]"
      ]
     },
     "execution_count": 35,
     "metadata": {},
     "output_type": "execute_result"
    }
   ],
   "source": [
    "features = ['V1', 'V2', 'V3', 'V4', 'V5', 'V6', 'V7', 'V8', 'V9', 'V10', 'V11',\n",
    "       'V12', 'V13', 'V14', 'V15', 'V16', 'V17', 'V18', 'V19', 'V20', 'V21',\n",
    "       'V22', 'V23', 'V24', 'V25', 'V26', 'V27', 'V28', 'V29', 'V30', 'V31',\n",
    "       'V32', 'V33']\n",
    "X = df[features]\n",
    "y = df[\"Class\"]\n",
    "X.head()"
   ]
  },
  {
   "cell_type": "code",
   "execution_count": 36,
   "id": "a4c633be-09c0-4d6f-b5ae-e4b805ed9121",
   "metadata": {},
   "outputs": [
    {
     "data": {
      "text/plain": [
       "array([ True,  True,  True,  True,  True,  True,  True,  True,  True,\n",
       "        True,  True,  True,  True,  True,  True,  True,  True,  True,\n",
       "        True,  True,  True,  True,  True,  True,  True,  True,  True,\n",
       "        True,  True,  True,  True,  True,  True])"
      ]
     },
     "execution_count": 36,
     "metadata": {},
     "output_type": "execute_result"
    }
   ],
   "source": [
    "# Get Zero Variance Features\n",
    "sel = VarianceThreshold(threshold=0)\n",
    "sel.fit_transform(X)\n",
    "sel.get_support()"
   ]
  },
  {
   "cell_type": "code",
   "execution_count": 37,
   "id": "b52dfcf4-563b-47a9-a957-132cd843d65c",
   "metadata": {},
   "outputs": [
    {
     "data": {
      "text/plain": [
       "Index(['V1', 'V2', 'V3', 'V4', 'V5', 'V6', 'V7', 'V8', 'V9', 'V10', 'V11',\n",
       "       'V12', 'V13', 'V14', 'V15', 'V16', 'V17', 'V18', 'V19', 'V20', 'V21',\n",
       "       'V22', 'V23', 'V24', 'V25', 'V26', 'V27', 'V28', 'V29', 'V30', 'V31',\n",
       "       'V32', 'V33'],\n",
       "      dtype='object')"
      ]
     },
     "execution_count": 37,
     "metadata": {},
     "output_type": "execute_result"
    }
   ],
   "source": [
    "X.columns[sel.get_support()]"
   ]
  },
  {
   "cell_type": "code",
   "execution_count": 38,
   "id": "4b598bd1-5bcd-463f-a740-b52c4c408c26",
   "metadata": {},
   "outputs": [
    {
     "name": "stdout",
     "output_type": "stream",
     "text": [
      "0\n"
     ]
    }
   ],
   "source": [
    "# Remove Columns which are zero variance\n",
    "constant_columns = [column for column in X.columns\n",
    "                    if column not in X.columns[sel.get_support()]]\n",
    "\n",
    "# Note: In this dataset there isn't anything with zero variance so above operation is useless\n",
    "print(len(constant_columns))\n"
   ]
  },
  {
   "cell_type": "code",
   "execution_count": 39,
   "id": "866fa145-d0df-4675-942b-09493d64d5e2",
   "metadata": {},
   "outputs": [
    {
     "data": {
      "text/plain": [
       "array([ True,  True,  True,  True,  True,  True,  True,  True,  True,\n",
       "        True,  True,  True,  True,  True,  True, False,  True, False,\n",
       "        True,  True,  True,  True,  True,  True,  True, False,  True,\n",
       "        True,  True,  True, False, False,  True])"
      ]
     },
     "execution_count": 39,
     "metadata": {},
     "output_type": "execute_result"
    }
   ],
   "source": [
    "sel = VarianceThreshold(threshold=0.05)\n",
    "sel.fit_transform(X)\n",
    "sel.get_support()"
   ]
  },
  {
   "cell_type": "code",
   "execution_count": 40,
   "id": "068d9ad3-cec3-4f74-a0a9-75adcf0f6533",
   "metadata": {},
   "outputs": [
    {
     "data": {
      "text/plain": [
       "Index(['V1', 'V2', 'V3', 'V4', 'V5', 'V6', 'V7', 'V8', 'V9', 'V10', 'V11',\n",
       "       'V12', 'V13', 'V14', 'V15', 'V17', 'V19', 'V20', 'V21', 'V22', 'V23',\n",
       "       'V24', 'V25', 'V27', 'V28', 'V29', 'V30', 'V33'],\n",
       "      dtype='object')"
      ]
     },
     "execution_count": 40,
     "metadata": {},
     "output_type": "execute_result"
    }
   ],
   "source": [
    "X.columns[sel.get_support()]"
   ]
  },
  {
   "cell_type": "code",
   "execution_count": 41,
   "id": "711ee3c3-cba3-48d8-bb88-fd6ba513c302",
   "metadata": {},
   "outputs": [
    {
     "name": "stdout",
     "output_type": "stream",
     "text": [
      "5\n"
     ]
    }
   ],
   "source": [
    "# Remove Columns which are zero variance\n",
    "constant_columns = [column for column in X.columns\n",
    "                    if column not in X.columns[sel.get_support()]]\n",
    "\n",
    "# Note: Some columns are removed\n",
    "print(len(constant_columns))"
   ]
  },
  {
   "cell_type": "code",
   "execution_count": 11,
   "id": "bc6bf10a-834c-42cb-9026-75414f0eafc9",
   "metadata": {},
   "outputs": [],
   "source": [
    "# Create training dataset\n",
    "train_X, val_X, train_y, val_y = train_test_split(X, y, random_state = 0)"
   ]
  },
  {
   "cell_type": "code",
   "execution_count": 12,
   "id": "c7bfd6f6-3c4e-473a-87ad-94458090d37a",
   "metadata": {},
   "outputs": [],
   "source": [
    "assignment_model = DecisionTreeRegressor(random_state=1)"
   ]
  },
  {
   "cell_type": "code",
   "execution_count": 13,
   "id": "9a88fba0-983e-48fb-836f-74b26c236f21",
   "metadata": {},
   "outputs": [],
   "source": [
    "train_X_1 = train_X.drop(constant_columns,axis=1)\n",
    "val_X_1 = val_X.drop(constant_columns, axis=1)"
   ]
  },
  {
   "cell_type": "code",
   "execution_count": 14,
   "id": "e9f6f430-6e13-45d9-af89-d7056b8139cf",
   "metadata": {},
   "outputs": [
    {
     "data": {
      "text/plain": [
       "DecisionTreeRegressor(random_state=1)"
      ]
     },
     "execution_count": 14,
     "metadata": {},
     "output_type": "execute_result"
    }
   ],
   "source": [
    "assignment_model.fit(train_X_1, train_y)"
   ]
  },
  {
   "cell_type": "code",
   "execution_count": 15,
   "id": "b98a51d7-fbea-4728-9aaf-6feaabfbd70f",
   "metadata": {},
   "outputs": [],
   "source": [
    "val_predictions = assignment_model.predict(val_X_1)"
   ]
  },
  {
   "cell_type": "code",
   "execution_count": 16,
   "id": "c71d47fe-8ceb-4700-a1b4-f245e49895ba",
   "metadata": {},
   "outputs": [
    {
     "name": "stdout",
     "output_type": "stream",
     "text": [
      "[1. 1. 1. 1. 1. 1. 1. 2. 1. 2. 1. 2. 2. 2. 1. 2. 1. 1. 1. 1. 1. 1. 2. 2.\n",
      " 2. 1. 1. 1. 2. 2. 1. 2. 1. 1. 1. 2. 1. 1. 2. 1. 2. 1. 1. 1. 2. 2. 1. 2.\n",
      " 1. 2. 1. 1. 1. 1. 2. 1. 1. 2. 2. 1. 1. 1. 2. 1. 1. 1. 1. 1. 1. 1. 1. 2.\n",
      " 1. 1. 2. 1. 1. 1. 2. 1. 1. 1. 1. 1. 1. 1. 1. 1. 1. 1. 2. 1. 2. 1. 1. 2.\n",
      " 1. 1. 1. 1. 2. 1. 1. 1. 1. 2. 1. 1. 2. 2. 1. 1. 1. 1. 1. 1. 1. 1. 2. 1.\n",
      " 1. 2. 2. 1. 1. 1. 1. 2. 2. 1. 1. 1. 2. 1. 1. 1. 1. 2. 2. 2. 2. 2. 1. 1.\n",
      " 2. 1. 1. 1. 2. 2. 2. 1. 1. 2. 2. 1. 1. 1. 2. 2. 2. 2. 2. 1. 2. 1. 1. 2.\n",
      " 1. 1. 2. 1. 1. 2. 1. 1. 2. 1. 1. 1. 1. 1. 1. 1. 1. 2. 2. 2. 1. 1. 1. 1.\n",
      " 2. 2. 1. 1. 1. 1. 1. 2. 1. 1. 2. 1. 2. 1. 1. 1. 1. 2. 1. 1. 1. 2. 1. 1.\n",
      " 1. 1. 1. 2. 2. 1. 1. 1. 1. 1. 2. 1. 1. 2. 1. 1. 2. 2. 2. 2. 1. 1. 1. 1.\n",
      " 2. 2. 1. 1. 1. 1. 1. 1. 1. 1. 2. 1. 1. 1. 1. 2. 1. 1. 1. 1. 1. 1. 2. 2.\n",
      " 1. 1. 2. 1. 1. 1. 1. 1. 1. 1. 2. 1. 2. 2. 2. 1. 1. 2. 1. 1. 1. 1. 1. 1.\n",
      " 1. 2. 2. 2. 1. 1. 1. 2. 2. 1. 1. 1. 1. 1. 1. 1. 2. 1. 1. 1. 2. 2. 1. 2.\n",
      " 2. 2. 1. 1. 2. 1. 1. 2. 1. 1. 1. 2. 1. 2. 1. 1. 1. 2. 1. 1. 1. 1. 2. 1.\n",
      " 2. 1. 2. 1. 1. 1. 1. 1. 2. 1. 2. 1. 2. 1. 1. 2. 2. 1. 1. 1. 1. 2. 2. 2.\n",
      " 1. 1. 1. 1. 1. 1. 1. 1. 2. 1. 1. 2. 2. 1. 2. 1. 1. 1. 2. 2. 2. 1. 1. 1.\n",
      " 1. 2. 2. 2. 2. 1. 1. 1. 1. 2. 2. 2. 1. 2. 1. 2. 1. 1. 2. 1. 2. 1. 1. 2.\n",
      " 1. 1. 1. 2. 1. 2. 1. 1. 1. 2. 1. 1. 1. 1. 1. 2. 2. 2. 1. 2. 1. 2. 2. 1.\n",
      " 2. 1. 1. 1. 1. 1. 1. 1. 2. 2. 2. 1. 2. 1. 1. 1. 1. 2. 2. 1. 1. 1. 1. 2.\n",
      " 1. 2. 1. 1. 2. 1. 1. 1. 1. 1. 2. 1. 2. 1. 1. 1. 1. 1. 1. 2. 1. 1. 1. 2.\n",
      " 2. 2. 1. 1. 1. 1.]\n",
      "768     1\n",
      "704     1\n",
      "726     1\n",
      "215     1\n",
      "1158    1\n",
      "       ..\n",
      "1638    2\n",
      "667     1\n",
      "981     1\n",
      "1038    1\n",
      "452     1\n",
      "Name: Class, Length: 486, dtype: int64\n"
     ]
    }
   ],
   "source": [
    "print(val_predictions)\n",
    "print(val_y)"
   ]
  },
  {
   "cell_type": "code",
   "execution_count": 17,
   "id": "76e20672-6bb5-48f1-a037-db62febe7643",
   "metadata": {},
   "outputs": [
    {
     "data": {
      "text/plain": [
       "0.01440329218106996"
      ]
     },
     "execution_count": 17,
     "metadata": {},
     "output_type": "execute_result"
    }
   ],
   "source": [
    "mean_absolute_error(val_y, val_predictions)"
   ]
  },
  {
   "cell_type": "code",
   "execution_count": 18,
   "id": "357ce66e-a1d1-4658-a4ff-3ea7ac21147a",
   "metadata": {},
   "outputs": [
    {
     "data": {
      "text/plain": [
       "array([0.00947864, 0.03729292, 0.00991444, 0.00201085, 0.00141771,\n",
       "       0.        , 0.0022622 , 0.00150813, 0.02138261, 0.00281518,\n",
       "       0.00721131, 0.        , 0.        , 0.01117137, 0.02987354,\n",
       "       0.        , 0.00669453, 0.        , 0.        , 0.10420434,\n",
       "       0.        , 0.00025049, 0.00265934, 0.        , 0.20330514,\n",
       "       0.17627374, 0.23026248, 0.14001103])"
      ]
     },
     "execution_count": 18,
     "metadata": {},
     "output_type": "execute_result"
    }
   ],
   "source": [
    "assignment_model.feature_importances_"
   ]
  },
  {
   "cell_type": "code",
   "execution_count": 19,
   "id": "5b29a2cb-3a99-42b7-b07e-f4f0fe3722a4",
   "metadata": {},
   "outputs": [
    {
     "data": {
      "text/html": [
       "<div>\n",
       "<style scoped>\n",
       "    .dataframe tbody tr th:only-of-type {\n",
       "        vertical-align: middle;\n",
       "    }\n",
       "\n",
       "    .dataframe tbody tr th {\n",
       "        vertical-align: top;\n",
       "    }\n",
       "\n",
       "    .dataframe thead th {\n",
       "        text-align: right;\n",
       "    }\n",
       "</style>\n",
       "<table border=\"1\" class=\"dataframe\">\n",
       "  <thead>\n",
       "    <tr style=\"text-align: right;\">\n",
       "      <th></th>\n",
       "      <th>V28</th>\n",
       "      <th>V29</th>\n",
       "      <th>V30</th>\n",
       "      <th>V31</th>\n",
       "      <th>V32</th>\n",
       "      <th>V33</th>\n",
       "    </tr>\n",
       "  </thead>\n",
       "  <tbody>\n",
       "    <tr>\n",
       "      <th>768</th>\n",
       "      <td>0</td>\n",
       "      <td>0</td>\n",
       "      <td>0</td>\n",
       "      <td>1</td>\n",
       "      <td>0</td>\n",
       "      <td>0</td>\n",
       "    </tr>\n",
       "    <tr>\n",
       "      <th>704</th>\n",
       "      <td>0</td>\n",
       "      <td>0</td>\n",
       "      <td>1</td>\n",
       "      <td>0</td>\n",
       "      <td>0</td>\n",
       "      <td>0</td>\n",
       "    </tr>\n",
       "    <tr>\n",
       "      <th>726</th>\n",
       "      <td>0</td>\n",
       "      <td>0</td>\n",
       "      <td>1</td>\n",
       "      <td>0</td>\n",
       "      <td>0</td>\n",
       "      <td>0</td>\n",
       "    </tr>\n",
       "    <tr>\n",
       "      <th>215</th>\n",
       "      <td>0</td>\n",
       "      <td>1</td>\n",
       "      <td>0</td>\n",
       "      <td>0</td>\n",
       "      <td>0</td>\n",
       "      <td>0</td>\n",
       "    </tr>\n",
       "    <tr>\n",
       "      <th>1158</th>\n",
       "      <td>0</td>\n",
       "      <td>0</td>\n",
       "      <td>0</td>\n",
       "      <td>0</td>\n",
       "      <td>0</td>\n",
       "      <td>1</td>\n",
       "    </tr>\n",
       "    <tr>\n",
       "      <th>...</th>\n",
       "      <td>...</td>\n",
       "      <td>...</td>\n",
       "      <td>...</td>\n",
       "      <td>...</td>\n",
       "      <td>...</td>\n",
       "      <td>...</td>\n",
       "    </tr>\n",
       "    <tr>\n",
       "      <th>1638</th>\n",
       "      <td>0</td>\n",
       "      <td>0</td>\n",
       "      <td>0</td>\n",
       "      <td>0</td>\n",
       "      <td>0</td>\n",
       "      <td>0</td>\n",
       "    </tr>\n",
       "    <tr>\n",
       "      <th>667</th>\n",
       "      <td>0</td>\n",
       "      <td>0</td>\n",
       "      <td>1</td>\n",
       "      <td>0</td>\n",
       "      <td>0</td>\n",
       "      <td>0</td>\n",
       "    </tr>\n",
       "    <tr>\n",
       "      <th>981</th>\n",
       "      <td>0</td>\n",
       "      <td>0</td>\n",
       "      <td>0</td>\n",
       "      <td>0</td>\n",
       "      <td>0</td>\n",
       "      <td>1</td>\n",
       "    </tr>\n",
       "    <tr>\n",
       "      <th>1038</th>\n",
       "      <td>0</td>\n",
       "      <td>0</td>\n",
       "      <td>0</td>\n",
       "      <td>0</td>\n",
       "      <td>0</td>\n",
       "      <td>1</td>\n",
       "    </tr>\n",
       "    <tr>\n",
       "      <th>452</th>\n",
       "      <td>0</td>\n",
       "      <td>0</td>\n",
       "      <td>1</td>\n",
       "      <td>0</td>\n",
       "      <td>0</td>\n",
       "      <td>0</td>\n",
       "    </tr>\n",
       "  </tbody>\n",
       "</table>\n",
       "<p>486 rows × 6 columns</p>\n",
       "</div>"
      ],
      "text/plain": [
       "      V28  V29  V30  V31  V32  V33\n",
       "768     0    0    0    1    0    0\n",
       "704     0    0    1    0    0    0\n",
       "726     0    0    1    0    0    0\n",
       "215     0    1    0    0    0    0\n",
       "1158    0    0    0    0    0    1\n",
       "...   ...  ...  ...  ...  ...  ...\n",
       "1638    0    0    0    0    0    0\n",
       "667     0    0    1    0    0    0\n",
       "981     0    0    0    0    0    1\n",
       "1038    0    0    0    0    0    1\n",
       "452     0    0    1    0    0    0\n",
       "\n",
       "[486 rows x 6 columns]"
      ]
     },
     "execution_count": 19,
     "metadata": {},
     "output_type": "execute_result"
    }
   ],
   "source": [
    "# Final Feature set after evaluati\n",
    "final_features = ['V28', 'V29', 'V30', 'V31', 'V32', 'V33']\n",
    "X = df[final_features]\n",
    "train_X, val_X, train_y, val_y = train_test_split(X, y, random_state = 0)\n",
    "\n",
    "train_X.head()\n",
    "val_X"
   ]
  },
  {
   "cell_type": "code",
   "execution_count": 20,
   "id": "3972b7b3-a18d-4a74-b67d-be16f239d715",
   "metadata": {},
   "outputs": [],
   "source": [
    "from sklearn.model_selection import cross_val_score\n",
    "from sklearn.model_selection import StratifiedKFold\n",
    "from sklearn.linear_model import LogisticRegression\n",
    "from sklearn.tree import DecisionTreeClassifier\n",
    "from sklearn.neighbors import KNeighborsClassifier\n",
    "from sklearn.discriminant_analysis import LinearDiscriminantAnalysis\n",
    "from sklearn.naive_bayes import GaussianNB\n",
    "from sklearn.svm import SVC# Spot Check Algorithms\n",
    "from sklearn.ensemble import BaggingClassifier\n",
    "from sklearn.linear_model import SGDClassifier\n",
    "from sklearn.gaussian_process import GaussianProcessClassifier\n",
    "from sklearn.neural_network import MLPClassifier\n",
    "from sklearn.gaussian_process.kernels import RBF\n",
    "\n",
    "from sklearn.metrics import classification_report\n",
    "from sklearn.metrics import confusion_matrix\n",
    "from sklearn.metrics import accuracy_score"
   ]
  },
  {
   "cell_type": "code",
   "execution_count": 21,
   "id": "af351e83-97cf-45a3-969b-ac95823a3b9d",
   "metadata": {},
   "outputs": [
    {
     "name": "stdout",
     "output_type": "stream",
     "text": [
      "0.6666666666666666\n",
      "[[324   0]\n",
      " [162   0]]\n",
      "              precision    recall  f1-score   support\n",
      "\n",
      "           1       0.67      1.00      0.80       324\n",
      "           2       0.00      0.00      0.00       162\n",
      "\n",
      "    accuracy                           0.67       486\n",
      "   macro avg       0.33      0.50      0.40       486\n",
      "weighted avg       0.44      0.67      0.53       486\n",
      "\n"
     ]
    },
    {
     "name": "stderr",
     "output_type": "stream",
     "text": [
      "/usr/local/Caskroom/miniforge/base/envs/test_env/lib/python3.8/site-packages/sklearn/metrics/_classification.py:1318: UndefinedMetricWarning: Precision and F-score are ill-defined and being set to 0.0 in labels with no predicted samples. Use `zero_division` parameter to control this behavior.\n",
      "  _warn_prf(average, modifier, msg_start, len(result))\n",
      "/usr/local/Caskroom/miniforge/base/envs/test_env/lib/python3.8/site-packages/sklearn/metrics/_classification.py:1318: UndefinedMetricWarning: Precision and F-score are ill-defined and being set to 0.0 in labels with no predicted samples. Use `zero_division` parameter to control this behavior.\n",
      "  _warn_prf(average, modifier, msg_start, len(result))\n",
      "/usr/local/Caskroom/miniforge/base/envs/test_env/lib/python3.8/site-packages/sklearn/metrics/_classification.py:1318: UndefinedMetricWarning: Precision and F-score are ill-defined and being set to 0.0 in labels with no predicted samples. Use `zero_division` parameter to control this behavior.\n",
      "  _warn_prf(average, modifier, msg_start, len(result))\n"
     ]
    }
   ],
   "source": [
    "# LinearDiscriminantAnalysis\n",
    "model = LinearDiscriminantAnalysis()\n",
    "model.fit(train_X, train_y)\n",
    "predictions = model.predict(val_X)\n",
    "# Evaluate predictions\n",
    "print(accuracy_score(val_y, predictions))\n",
    "print(confusion_matrix(val_y, predictions))\n",
    "print(classification_report(val_y, predictions))"
   ]
  },
  {
   "cell_type": "code",
   "execution_count": 22,
   "id": "bfa5289a-abaf-4f9e-b3cb-807e30b119a5",
   "metadata": {},
   "outputs": [
    {
     "name": "stdout",
     "output_type": "stream",
     "text": [
      "1.0\n",
      "[[324   0]\n",
      " [  0 162]]\n",
      "              precision    recall  f1-score   support\n",
      "\n",
      "           1       1.00      1.00      1.00       324\n",
      "           2       1.00      1.00      1.00       162\n",
      "\n",
      "    accuracy                           1.00       486\n",
      "   macro avg       1.00      1.00      1.00       486\n",
      "weighted avg       1.00      1.00      1.00       486\n",
      "\n"
     ]
    }
   ],
   "source": [
    "# LogisticRegression\n",
    "model = LogisticRegression(solver='liblinear', multi_class='ovr')\n",
    "model.fit(train_X, train_y)\n",
    "predictions = model.predict(val_X)\n",
    "# Evaluate predictions\n",
    "print(accuracy_score(val_y, predictions))\n",
    "print(confusion_matrix(val_y, predictions))\n",
    "print(classification_report(val_y, predictions))"
   ]
  },
  {
   "cell_type": "code",
   "execution_count": 23,
   "id": "911e5146-fd6c-48a4-a54e-816f65f6c733",
   "metadata": {},
   "outputs": [
    {
     "name": "stdout",
     "output_type": "stream",
     "text": [
      "1.0\n",
      "[[324   0]\n",
      " [  0 162]]\n",
      "              precision    recall  f1-score   support\n",
      "\n",
      "           1       1.00      1.00      1.00       324\n",
      "           2       1.00      1.00      1.00       162\n",
      "\n",
      "    accuracy                           1.00       486\n",
      "   macro avg       1.00      1.00      1.00       486\n",
      "weighted avg       1.00      1.00      1.00       486\n",
      "\n"
     ]
    }
   ],
   "source": [
    "# DecisionTreeClassifier\n",
    "model = DecisionTreeClassifier()\n",
    "model.fit(train_X, train_y)\n",
    "predictions = model.predict(val_X)\n",
    "# Evaluate predictions\n",
    "print(accuracy_score(val_y, predictions))\n",
    "print(confusion_matrix(val_y, predictions))\n",
    "print(classification_report(val_y, predictions))"
   ]
  },
  {
   "cell_type": "code",
   "execution_count": 24,
   "id": "69160488-6b40-40f0-9477-5b82fc15b697",
   "metadata": {},
   "outputs": [
    {
     "name": "stdout",
     "output_type": "stream",
     "text": [
      "1.0\n",
      "[[324   0]\n",
      " [  0 162]]\n",
      "              precision    recall  f1-score   support\n",
      "\n",
      "           1       1.00      1.00      1.00       324\n",
      "           2       1.00      1.00      1.00       162\n",
      "\n",
      "    accuracy                           1.00       486\n",
      "   macro avg       1.00      1.00      1.00       486\n",
      "weighted avg       1.00      1.00      1.00       486\n",
      "\n"
     ]
    }
   ],
   "source": [
    "#3.KNeighborsClassifier\n",
    "model = KNeighborsClassifier()\n",
    "model.fit(train_X, train_y)\n",
    "predictions = model.predict(val_X)\n",
    "# Evaluate predictions\n",
    "print(accuracy_score(val_y, predictions))\n",
    "print(confusion_matrix(val_y, predictions))\n",
    "print(classification_report(val_y, predictions))"
   ]
  },
  {
   "cell_type": "code",
   "execution_count": 25,
   "id": "8aa5c8c2-3e38-4352-9079-9211d7f5712a",
   "metadata": {},
   "outputs": [
    {
     "name": "stdout",
     "output_type": "stream",
     "text": [
      "1.0\n",
      "[[324   0]\n",
      " [  0 162]]\n",
      "              precision    recall  f1-score   support\n",
      "\n",
      "           1       1.00      1.00      1.00       324\n",
      "           2       1.00      1.00      1.00       162\n",
      "\n",
      "    accuracy                           1.00       486\n",
      "   macro avg       1.00      1.00      1.00       486\n",
      "weighted avg       1.00      1.00      1.00       486\n",
      "\n"
     ]
    }
   ],
   "source": [
    "#5.GaussianNB\n",
    "model = GaussianNB()\n",
    "model.fit(train_X, train_y)\n",
    "predictions = model.predict(val_X)\n",
    "# Evaluate predictions\n",
    "print(accuracy_score(val_y, predictions))\n",
    "print(confusion_matrix(val_y, predictions))\n",
    "print(classification_report(val_y, predictions))"
   ]
  },
  {
   "cell_type": "code",
   "execution_count": 26,
   "id": "b82c0a1c-8b44-47d0-a12b-9bfc314c3fd0",
   "metadata": {},
   "outputs": [
    {
     "name": "stdout",
     "output_type": "stream",
     "text": [
      "1.0\n",
      "[[324   0]\n",
      " [  0 162]]\n",
      "              precision    recall  f1-score   support\n",
      "\n",
      "           1       1.00      1.00      1.00       324\n",
      "           2       1.00      1.00      1.00       162\n",
      "\n",
      "    accuracy                           1.00       486\n",
      "   macro avg       1.00      1.00      1.00       486\n",
      "weighted avg       1.00      1.00      1.00       486\n",
      "\n"
     ]
    }
   ],
   "source": [
    "#6.SVC\n",
    "model = SVC(gamma='auto')\n",
    "model.fit(train_X, train_y)\n",
    "predictions = model.predict(val_X)\n",
    "# Evaluate predictions\n",
    "print(accuracy_score(val_y, predictions))\n",
    "print(confusion_matrix(val_y, predictions))\n",
    "print(classification_report(val_y, predictions))"
   ]
  },
  {
   "cell_type": "code",
   "execution_count": 27,
   "id": "44b0f0d9-baec-4801-b4fa-bad4f0b668b0",
   "metadata": {},
   "outputs": [
    {
     "name": "stdout",
     "output_type": "stream",
     "text": [
      "1.0\n",
      "[[324   0]\n",
      " [  0 162]]\n",
      "              precision    recall  f1-score   support\n",
      "\n",
      "           1       1.00      1.00      1.00       324\n",
      "           2       1.00      1.00      1.00       162\n",
      "\n",
      "    accuracy                           1.00       486\n",
      "   macro avg       1.00      1.00      1.00       486\n",
      "weighted avg       1.00      1.00      1.00       486\n",
      "\n"
     ]
    }
   ],
   "source": [
    "#7.BaggingClassifier\n",
    "model = BaggingClassifier()\n",
    "model.fit(train_X, train_y)\n",
    "predictions = model.predict(val_X)\n",
    "# Evaluate predictions\n",
    "print(accuracy_score(val_y, predictions))\n",
    "print(confusion_matrix(val_y, predictions))\n",
    "print(classification_report(val_y, predictions))"
   ]
  },
  {
   "cell_type": "code",
   "execution_count": 29,
   "id": "1d852b69-42d3-43fa-9be2-34575b4392dc",
   "metadata": {},
   "outputs": [
    {
     "name": "stdout",
     "output_type": "stream",
     "text": [
      "1.0\n",
      "[[324   0]\n",
      " [  0 162]]\n",
      "              precision    recall  f1-score   support\n",
      "\n",
      "           1       1.00      1.00      1.00       324\n",
      "           2       1.00      1.00      1.00       162\n",
      "\n",
      "    accuracy                           1.00       486\n",
      "   macro avg       1.00      1.00      1.00       486\n",
      "weighted avg       1.00      1.00      1.00       486\n",
      "\n"
     ]
    }
   ],
   "source": [
    "#8.SGDClassifier\n",
    "model = SGDClassifier()\n",
    "model.fit(train_X, train_y)\n",
    "predictions = model.predict(val_X)\n",
    "# Evaluate predictions\n",
    "print(accuracy_score(val_y, predictions))\n",
    "print(confusion_matrix(val_y, predictions))\n",
    "print(classification_report(val_y, predictions))"
   ]
  },
  {
   "cell_type": "code",
   "execution_count": 30,
   "id": "86153d49-0c6d-402e-9b2c-ea52254a6039",
   "metadata": {},
   "outputs": [
    {
     "name": "stdout",
     "output_type": "stream",
     "text": [
      "1.0\n",
      "[[324   0]\n",
      " [  0 162]]\n",
      "              precision    recall  f1-score   support\n",
      "\n",
      "           1       1.00      1.00      1.00       324\n",
      "           2       1.00      1.00      1.00       162\n",
      "\n",
      "    accuracy                           1.00       486\n",
      "   macro avg       1.00      1.00      1.00       486\n",
      "weighted avg       1.00      1.00      1.00       486\n",
      "\n"
     ]
    }
   ],
   "source": [
    "#9.MLPClassifier\n",
    "model = MLPClassifier(alpha=1, max_iter=1000)\n",
    "model.fit(train_X, train_y)\n",
    "predictions = model.predict(val_X)\n",
    "# Evaluate predictions\n",
    "print(accuracy_score(val_y, predictions))\n",
    "print(confusion_matrix(val_y, predictions))\n",
    "print(classification_report(val_y, predictions))"
   ]
  },
  {
   "cell_type": "code",
   "execution_count": 31,
   "id": "c5fb6afc-7c55-461e-a7af-b5b3659d1e42",
   "metadata": {},
   "outputs": [
    {
     "name": "stderr",
     "output_type": "stream",
     "text": [
      "/usr/local/Caskroom/miniforge/base/envs/test_env/lib/python3.8/site-packages/sklearn/gaussian_process/kernels.py:420: ConvergenceWarning: The optimal value found for dimension 0 of parameter k2__length_scale is close to the specified lower bound 1e-05. Decreasing the bound and calling fit again may find a better value.\n",
      "  warnings.warn(\n"
     ]
    },
    {
     "name": "stdout",
     "output_type": "stream",
     "text": [
      "1.0\n",
      "[[324   0]\n",
      " [  0 162]]\n",
      "              precision    recall  f1-score   support\n",
      "\n",
      "           1       1.00      1.00      1.00       324\n",
      "           2       1.00      1.00      1.00       162\n",
      "\n",
      "    accuracy                           1.00       486\n",
      "   macro avg       1.00      1.00      1.00       486\n",
      "weighted avg       1.00      1.00      1.00       486\n",
      "\n"
     ]
    }
   ],
   "source": [
    "#10.GaussianProcessClassifier\n",
    "model = GaussianProcessClassifier(1.0 * RBF(1.0))\n",
    "model.fit(train_X, train_y)\n",
    "predictions = model.predict(val_X)\n",
    "# Evaluate predictions\n",
    "print(accuracy_score(val_y, predictions))\n",
    "print(confusion_matrix(val_y, predictions))\n",
    "print(classification_report(val_y, predictions))"
   ]
  },
  {
   "cell_type": "code",
   "execution_count": null,
   "id": "4c6f48f4-9032-4922-aa15-6962024bd04e",
   "metadata": {},
   "outputs": [],
   "source": []
  },
  {
   "cell_type": "code",
   "execution_count": null,
   "id": "10c5f6af-5303-45f7-9a7e-3e301df01be0",
   "metadata": {},
   "outputs": [],
   "source": []
  }
 ],
 "metadata": {
  "interpreter": {
   "hash": "f0b3843ef66ef72e0d095359ab408deb80cd37476039c722f337af7e4c5c1d89"
  },
  "kernelspec": {
   "display_name": "Python 3.8.13 ('test_env')",
   "language": "python",
   "name": "python3"
  },
  "language_info": {
   "codemirror_mode": {
    "name": "ipython",
    "version": 3
   },
   "file_extension": ".py",
   "mimetype": "text/x-python",
   "name": "python",
   "nbconvert_exporter": "python",
   "pygments_lexer": "ipython3",
   "version": "3.8.13"
  }
 },
 "nbformat": 4,
 "nbformat_minor": 5
}
