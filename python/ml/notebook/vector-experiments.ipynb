{
 "cells": [
  {
   "cell_type": "code",
   "execution_count": 6,
   "id": "a58f26cc-f167-4a5f-af31-f0fdb8728cad",
   "metadata": {},
   "outputs": [],
   "source": [
    "from sentence_transformers import SentenceTransformer\n",
    "\n",
    "model = SentenceTransformer('all-MiniLM-L6-v2')\n",
    "md_file = '/Users/chandan/code/personal/github/docs/003-general-notes.md'\n"
   ]
  },
  {
   "cell_type": "code",
   "execution_count": 8,
   "id": "59dfd2d7-189f-47e2-8ce4-cad9213ec088",
   "metadata": {},
   "outputs": [],
   "source": [
    "# Open the file in read mode\n",
    "with open(md_file, \"r\") as file:\n",
    "    # Read the contents of the file\n",
    "    content = file.read()"
   ]
  },
  {
   "cell_type": "code",
   "execution_count": 11,
   "id": "c93c9ebc-cf34-452a-b279-8cbdcf432b08",
   "metadata": {},
   "outputs": [],
   "source": [
    "paragraphs = content.split('\\n\\n')"
   ]
  },
  {
   "cell_type": "code",
   "execution_count": 12,
   "id": "7d5af123-86d5-496f-9ba3-2f6581ef987c",
   "metadata": {},
   "outputs": [
    {
     "name": "stdout",
     "output_type": "stream",
     "text": [
      "['Quotes:', 'There is no user manual to life. Problems come first, and wisdom to handle those comes later when we go through failures.', 'This is by design. Because we learn the most by solving problems and overcoming failures.', '— Swami Mukandananda', 'https://chat.openai.com/share/ee902dd9-fbdf-49a8-ac93-fd72f4502265', 'I want structured information on Application Logging. Best practice around it. For example how do I log an important event for audit purpose, or a fatal error for reporting etc..', '---', 'Kartik Suryanarayan', 'Business Relationship Manager (APAC)\\nTata Consultancy Services\\n60 Anson Road #18-01 Mapletree Anson\\nSingapore - 079914\\nCell:- +65 85187127\\nMailto: kartik1.s@tcs.com\\n']\n"
     ]
    }
   ],
   "source": [
    "print(paragraphs)"
   ]
  },
  {
   "cell_type": "code",
   "execution_count": 13,
   "id": "c4195199-2af6-4732-9cff-ed5df5dab366",
   "metadata": {},
   "outputs": [],
   "source": [
    "embeddings = model.encode(paragraphs)"
   ]
  },
  {
   "cell_type": "code",
   "execution_count": 15,
   "id": "8f5c586f-e882-48ea-a49c-4c1c5f07cc3c",
   "metadata": {},
   "outputs": [],
   "source": [
    "query = \"There is no user manual to life\"\n",
    "query_embedding = model.encode(query)"
   ]
  },
  {
   "cell_type": "code",
   "execution_count": 16,
   "id": "76f4b16e-69e2-4f8f-9956-69e1c1aca5af",
   "metadata": {},
   "outputs": [],
   "source": [
    "similarties = model.similarity(embeddings, query_embedding)"
   ]
  },
  {
   "cell_type": "code",
   "execution_count": 17,
   "id": "60f6dc49-9697-430b-ae28-75bb3956a2e1",
   "metadata": {},
   "outputs": [
    {
     "name": "stdout",
     "output_type": "stream",
     "text": [
      "tensor([[0.1333],\n",
      "        [0.8724],\n",
      "        [0.1675],\n",
      "        [0.1655],\n",
      "        [0.1688],\n",
      "        [0.1322],\n",
      "        [0.0711],\n",
      "        [0.0694],\n",
      "        [0.1541]])\n"
     ]
    }
   ],
   "source": [
    "print(similarties)"
   ]
  },
  {
   "cell_type": "code",
   "execution_count": 18,
   "id": "4df3f9cc-189e-4790-9f85-366726324857",
   "metadata": {},
   "outputs": [],
   "source": [
    "query = \"where is the user manual to life\"\n",
    "query_embedding = model.encode(query)\n",
    "similarties = model.similarity(embeddings, query_embedding)"
   ]
  },
  {
   "cell_type": "code",
   "execution_count": 19,
   "id": "40ee9ca7-62e0-4697-af34-f0133c5fb037",
   "metadata": {},
   "outputs": [
    {
     "name": "stdout",
     "output_type": "stream",
     "text": [
      "tensor([[0.1582],\n",
      "        [0.8321],\n",
      "        [0.1442],\n",
      "        [0.1576],\n",
      "        [0.1893],\n",
      "        [0.1145],\n",
      "        [0.0639],\n",
      "        [0.0595],\n",
      "        [0.1522]])\n"
     ]
    }
   ],
   "source": [
    "print(similarties)"
   ]
  },
  {
   "cell_type": "code",
   "execution_count": null,
   "id": "d8552467-0d02-41f7-9c92-fe0c37593015",
   "metadata": {},
   "outputs": [],
   "source": []
  }
 ],
 "metadata": {
  "kernelspec": {
   "display_name": "Python 3 (ipykernel)",
   "language": "python",
   "name": "python3"
  },
  "language_info": {
   "codemirror_mode": {
    "name": "ipython",
    "version": 3
   },
   "file_extension": ".py",
   "mimetype": "text/x-python",
   "name": "python",
   "nbconvert_exporter": "python",
   "pygments_lexer": "ipython3",
   "version": "3.9.10"
  }
 },
 "nbformat": 4,
 "nbformat_minor": 5
}
